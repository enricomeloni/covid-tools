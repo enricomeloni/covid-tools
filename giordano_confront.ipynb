{
 "metadata": {
  "language_info": {
   "codemirror_mode": {
    "name": "ipython",
    "version": 3
   },
   "file_extension": ".py",
   "mimetype": "text/x-python",
   "name": "python",
   "nbconvert_exporter": "python",
   "pygments_lexer": "ipython3",
   "version": "3.7.9-final"
  },
  "orig_nbformat": 2,
  "kernelspec": {
   "name": "python3",
   "display_name": "Python 3.7.9 64-bit ('learning_sidarthe': conda)",
   "metadata": {
    "interpreter": {
     "hash": "313d366f5f0ed814ed2d0f2ad3b591dc8ef5ddcc59621424c1eb8c643231d83c"
    }
   }
  }
 },
 "nbformat": 4,
 "nbformat_minor": 2,
 "cells": [
  {
   "cell_type": "code",
   "execution_count": 4,
   "metadata": {},
   "outputs": [],
   "source": [
    "from lcm.utils.checkpoint import load_from_json_checkpoint\n",
    "import seaborn as sns\n",
    "import pandas as pd\n",
    "import torch\n",
    "\n",
    "from lcm.trainers import CompartmentalTrainer\n",
    "from lcm.utils.visualization import parse_date\n",
    "\n",
    "import matplotlib.pyplot as plt\n",
    "import datetime"
   ]
  },
  {
   "cell_type": "code",
   "execution_count": 63,
   "metadata": {},
   "outputs": [],
   "source": [
    "exps_path = \"./giordano_confrontation\"\n",
    "giordano_path = os.path.join(exps_path, \"giordano.json\")\n",
    "nophichi_path = os.path.join(exps_path, \"nophichi.json\")\n",
    "phichi_path = os.path.join(exps_path, \"phichi.json\")\n",
    "\n",
    "giordano, dataset = load_from_json_checkpoint(giordano_path)\n",
    "nophichi, _ = load_from_json_checkpoint(nophichi_path)\n",
    "phichi, _ = load_from_json_checkpoint(phichi_path)\n",
    "\n",
    "dataset_size = dataset.train_size + dataset.val_size + dataset.test_size"
   ]
  },
  {
   "cell_type": "code",
   "execution_count": 9,
   "metadata": {},
   "outputs": [
    {
     "output_type": "stream",
     "name": "stderr",
     "text": [
      "GPU available: True, used: False\n",
      "TPU available: None, using: 0 TPU cores\n",
      "GPU available: True, used: False\n",
      "TPU available: None, using: 0 TPU cores\n",
      "GPU available: True, used: False\n",
      "TPU available: None, using: 0 TPU cores\n"
     ]
    }
   ],
   "source": [
    "# create trainer\n",
    "\n",
    "giordano_exp = CompartmentalTrainer(\n",
    "    dataset=dataset,\n",
    "    model=giordano,\n",
    "    uuid_prefix=\"all_regions\", uuid=\"\",\n",
    ")\n",
    "\n",
    "nophichi_exp = CompartmentalTrainer(\n",
    "    dataset=dataset,\n",
    "    model=nophichi,\n",
    "    uuid_prefix=\"all_regions\", uuid=\"\",\n",
    ")\n",
    "\n",
    "phichi_exp = CompartmentalTrainer(\n",
    "    dataset=dataset,\n",
    "    model=phichi,\n",
    "    uuid_prefix=\"all_regions\", uuid=\"\",\n",
    ")"
   ]
  },
  {
   "cell_type": "code",
   "execution_count": 16,
   "metadata": {
    "tags": []
   },
   "outputs": [
    {
     "output_type": "stream",
     "name": "stdout",
     "text": [
      "Testing: 100%|██████████| 1/1 [00:02<00:00,  2.40s/it]\n",
      "Testing: 100%|██████████| 1/1 [00:02<00:00,  2.38s/it]\n",
      "Testing: 100%|██████████| 1/1 [00:02<00:00,  2.41s/it]\n"
     ]
    }
   ],
   "source": [
    "giordano_out = giordano_exp.test(giordano, dataset.test_dataloader(), verbose=False)[0]\n",
    "nophichi_out = nophichi_exp.test(nophichi, dataset.test_dataloader(), verbose=False)[0]\n",
    "phichi_out = phichi_exp.test(phichi, dataset.test_dataloader(), verbose=False)[0]"
   ]
  },
  {
   "cell_type": "code",
   "execution_count": 55,
   "metadata": {
    "tags": []
   },
   "outputs": [
    {
     "output_type": "execute_result",
     "data": {
      "text/plain": [
       "dict_keys(['hats', 'targets', 'target_loss', 'regularization_loss', 'val_loss_d', 'val_loss_r', 'val_loss_t', 'val_loss_h_detected', 'val_loss_e', 'val_loss_weighted', 'val_loss_unweighted'])"
      ]
     },
     "metadata": {},
     "execution_count": 55
    }
   ],
   "source": [
    "giordano_val = giordano_out[\"val_loss_unweighted\"]\n",
    "nophichi_val = nophichi_out[\"val_loss_unweighted\"]\n",
    "phichi_val = phichi_out[\"val_loss_unweighted\"]\n",
    "\n",
    "\n",
    "outs = [giordano_out, nophichi_out, phichi_out]\n",
    "models = [\"Giordano\", \"LCM\", \"LCM+\"]\n",
    "targets = [\"d\",\"r\",\"t\",\"h_detected\",\"e\", \"unweighted\"]\n",
    "giordano_out.keys()"
   ]
  },
  {
   "cell_type": "code",
   "execution_count": 57,
   "metadata": {},
   "outputs": [],
   "source": [
    "# print table with val loss\n",
    "\n",
    "def print_table(outs, row_printer):\n",
    "    print(r\"\"\"\n",
    "\\begin{tabular}{||c c c c c c c||} \n",
    "    \\hline\n",
    "    \\textbf{Model} & \\textbf{D} & \\textbf{R} & \\textbf{T} & \\textbf{H_d} & \\textbf{E} & \\textbf{Total}\\\\ [0.5ex] \n",
    "    \\hline\"\"\")\n",
    "\n",
    "    for out, model_name in zip(outs, models): \n",
    "        row_printer(out, model_name)\n",
    "        print(\"    \\\\hline\")\n",
    "\n",
    "    print(\"\\\\end{tabular}\")"
   ]
  },
  {
   "cell_type": "code",
   "execution_count": 59,
   "metadata": {},
   "outputs": [
    {
     "output_type": "stream",
     "name": "stdout",
     "text": [
      "TABLE WITH ABSOLUTE VALUES\n\n\\begin{tabular}{||c c c c c c c||} \n    \\hline\n    \\textbf{Model} & \\textbf{D} & \\textbf{R} & \\textbf{T} & \\textbf{H_d} & \\textbf{E} & \\textbf{Total}\\\\ [0.5ex] \n    \\hline\n    Giordano & 19973.70 & 1764.75 & 3019.99 & 1860.53 & 8797.16 & 35416.14\n    \\hline\n    LCM & 13609.48 & 4665.04 & 1198.25 & 788.52 & 7516.44 & 27777.74\n    \\hline\n    LCM+ & 12243.39 & 3358.04 & 1134.33 & 712.20 & 4180.89 & 21628.85\n    \\hline\n\\end{tabular}\n"
     ]
    }
   ],
   "source": [
    "print(\"TABLE WITH ABSOLUTE VALUES\")\n",
    "\n",
    "def print_row(out, model_name):\n",
    "\n",
    "    values = \" & \".join([f\"{out['val_loss_'+key]:.2f}\" for key in targets])\n",
    "    print(f\"    {model_name} & {values}\")\n",
    "\n",
    "print_table(outs, print_row)"
   ]
  },
  {
   "cell_type": "code",
   "execution_count": 60,
   "metadata": {},
   "outputs": [
    {
     "output_type": "stream",
     "name": "stdout",
     "text": [
      "TABLE WITH MEAN VALUES\n\n\\begin{tabular}{||c c c c c c c||} \n    \\hline\n    \\textbf{Model} & \\textbf{D} & \\textbf{R} & \\textbf{T} & \\textbf{H_d} & \\textbf{E} & \\textbf{Total}\\\\ [0.5ex] \n    \\hline\n    Giordano & 1426.69 & 126.05 & 215.71 & 132.89 & 628.37 & 2529.72\n    \\hline\n    LCM & 972.11 & 333.22 & 85.59 & 56.32 & 536.89 & 1984.12\n    \\hline\n    LCM+ & 874.53 & 239.86 & 81.02 & 50.87 & 298.63 & 1544.92\n    \\hline\n\\end{tabular}\n"
     ]
    }
   ],
   "source": [
    "print(\"TABLE WITH MEAN VALUES\")\n",
    "\n",
    "def print_row(out, model_name):\n",
    "\n",
    "    values = \" & \".join([f\"{out['val_loss_'+key] / dataset.test_size:.2f}\" for key in targets])\n",
    "    print(f\"    {model_name} & {values}\")\n",
    "\n",
    "print_table(outs, print_row)"
   ]
  },
  {
   "cell_type": "code",
   "execution_count": 78,
   "metadata": {
    "tags": []
   },
   "outputs": [
    {
     "output_type": "stream",
     "name": "stdout",
     "text": [
      "Testing: 100%|██████████| 1/1 [00:02<00:00,  2.37s/it]\n",
      "Testing: 100%|██████████| 1/1 [00:02<00:00,  2.38s/it]\n",
      "Testing: 100%|██████████| 1/1 [00:02<00:00,  2.39s/it]\n"
     ]
    }
   ],
   "source": [
    "from lcm.losses.target_losses import MAPE\n",
    "nrmse = giordano.loss_fn\n",
    "giordano.loss_fn = MAPE(nrmse.weights)\n",
    "nophichi.loss_fn = MAPE(nrmse.weights)\n",
    "phichi.loss_fn = MAPE(nrmse.weights)\n",
    "\n",
    "giordano_mape_out = giordano_exp.test(giordano, dataset.test_dataloader(), verbose=False)[0]\n",
    "nophichi_mape_out = giordano_exp.test(nophichi, dataset.test_dataloader(), verbose=False)[0]\n",
    "phichi_mape_out = giordano_exp.test(phichi, dataset.test_dataloader(), verbose=False)[0]"
   ]
  },
  {
   "cell_type": "code",
   "execution_count": 83,
   "metadata": {},
   "outputs": [
    {
     "output_type": "stream",
     "name": "stdout",
     "text": [
      "TABLE WITH MAPES VALUES\n\n\\begin{tabular}{||c c c c c c c||} \n    \\hline\n    \\textbf{Model} & \\textbf{D} & \\textbf{R} & \\textbf{T} & \\textbf{H_d} & \\textbf{E} & \\textbf{Total}\\\\ [0.5ex] \n    \\hline\n    Giordano & 37.57% & 7.93% & 130.32% & 5.78% & 61.72% & 243.33%\n    \\hline\n    LCM & 24.20% & 23.09% & 51.38% & 2.76% & 52.61% & 154.05%\n    \\hline\n    LCM+ & 21.59% & 16.28% & 48.06% & 2.61% & 26.56% & 115.09%\n    \\hline\n\\end{tabular}\n"
     ]
    }
   ],
   "source": [
    "print(\"TABLE WITH MAPES VALUES\")\n",
    "\n",
    "outs = [giordano_mape_out, nophichi_mape_out, phichi_mape_out]\n",
    "def print_row(out, model_name):\n",
    "\n",
    "    values = \" & \".join([f\"{out['val_loss_'+key]*100:.2f}%\" for key in targets])\n",
    "    print(f\"    {model_name} & {values}\")\n",
    "\n",
    "print_table(outs, print_row)"
   ]
  }
 ]
}