{
 "metadata": {
  "language_info": {
   "codemirror_mode": {
    "name": "ipython",
    "version": 3
   },
   "file_extension": ".py",
   "mimetype": "text/x-python",
   "name": "python",
   "nbconvert_exporter": "python",
   "pygments_lexer": "ipython3",
   "version": "3.7.9-final"
  },
  "orig_nbformat": 2,
  "kernelspec": {
   "name": "python3",
   "display_name": "Python 3",
   "language": "python"
  }
 },
 "nbformat": 4,
 "nbformat_minor": 2,
 "cells": [
  {
   "cell_type": "code",
   "execution_count": 1,
   "metadata": {},
   "outputs": [],
   "source": [
    "import pandas as pd\n",
    "CasiTotali = [3, 20, 79, 132, 229, 322, 400, 650, 888, 1128, 1694, 2036, 2502, 3089, 3858, 4636, 5883, 7375, 9172, 10149, 12462, 15113, 17660, 21157, 24747, 27980, 31506, 35713, 41035, 47021, 53578, 59138, 63927, 69176, 74386, 80539, 86498, 92472, 97689, 101739, 105792, 110574, 115242, 119827, 124632, 128948, 132547, 135586, 139422, 143626, 147577, 152271, 156363, 159516, 162488, 165155, 168941, 172434, 175925, 178972, 181228, 183957, 187327, 189973, 192994, 195351, 197675, 199414, 201505, 203591, 205463, 207428]\n",
    "Deceduti = [0, 1, 2, 2, 7, 10, 12, 17, 21, 29, 34, 52, 79, 107, 148, 197, 233, 366, 463, 631, 827, 1016, 1266, 1441, 1809, 2158, 2503, 2978, 3405, 4032, 4825, 5476, 6077, 6820, 7503, 8165, 9134, 10023, 10779, 11591, 12428, 13155, 13915, 14681, 15362, 15887, 16523, 17127, 17669, 18279, 18849, 19468, 19899, 20465, 21067, 21645, 22170, 22745, 23227, 23660, 24114, 24648, 25085, 25549, 25969, 26384, 26644, 26977, 27359, 27682, 27967, 28236]\n",
    "Guariti = [0, 0, 0, 1, 1, 1, 3, 45, 46, 50, 83, 149, 160, 276, 414, 523, 589, 622, 724, 1004, 1045, 1258, 1439, 1966, 2335, 2749, 2941, 4025, 4440, 5129, 6072, 7024, 7432, 8326, 9362, 10361, 10950, 12384, 13030, 14620, 15729, 16847, 18278, 19758, 20996, 21815, 22837, 24392, 26491, 28470, 30455, 32534, 34211, 35435, 37130, 38092, 40164, 42727, 44927, 47055, 48877, 51600, 54543, 57576, 60498, 63120, 64928, 66624, 68941, 71252, 75945, 78249]\n",
    "Positivi = [3, 19, 77, 129, 221, 311, 385, 588, 821, 1049, 1577, 1835, 2263, 2706, 3296, 3916, 5061, 6387, 7985, 8514, 10590, 12839, 14955, 17750, 20603, 23073, 26062, 28710, 33190, 37860, 42681, 46638, 50418, 54030, 57521, 62013, 66414, 70065, 73880, 75528, 77635, 80572, 83049, 85388, 88274, 91246, 93187, 94067, 95262, 96877, 98273, 100269, 102253, 103616, 104291, 105418, 106607, 106962, 107771, 108257, 108237, 107709, 107699, 106848, 106527, 105847, 106103, 105813, 105205, 104657, 101551, 100943]\n",
    "\n",
    "# pad missing data with -1 \n",
    "Isolamento_domiciliare = [-1, -1, -1, 49, 94, 162, 221, 284, 412, 543, 798, 927, 1000, 1065, 1155, 1060, 1843, 2180, 2936, 2599, 3724, 5036, 6201, 7860, 9268, 10197, 11108, 12090, 14935, 19185, 22116, 23783, 26522, 28697, 30920, 33648, 36653, 39533, 42588, 43752, 45420, 48134, 50456, 52579, 55270, 58320, 60313, 61557, 63084, 64873, 66534, 68744, 71063, 72333, 73094, 74696, 76778, 78364, 80031, 80589, 80758, 81104, 81510, 81710, 82286, 82212, 82722, 83504, 83619, 83652, 81708, 81796]\n",
    "Ricoverati_sintomi = [-1, -1, -1, 54, 101, 114, 128, 248, 345, 401, 639, 742, 1034, 1346, 1790, 2394, 2651, 3557, 4316, 5038, 5838, 6650, 7426, 8372, 9663, 11025, 12894, 14363, 15757, 16020, 17708, 19846, 20692, 21937, 23112, 24753, 26029, 26676, 27386, 27795, 28192, 28403, 28540, 28741, 29010, 28949, 28976, 28718, 28485, 28399, 28242, 28144, 27847, 28023, 28011, 27643, 26893, 25786, 25007, 25033, 24906, 24134, 23805, 22871, 22068, 21533, 21372, 20353, 19723, 19210, 18149, 17569]\n",
    "Terapia_intensiva = [-1, -1, -1, 26, 26, 35, 36, 56, 64, 105, 140, 166, 229, 295, 351, 462, 567, 650, 733, 877, 1028, 1153, 1328, 1518, 1672, 1851, 2060, 2257, 2498, 2655, 2857, 3009, 3204, 3396, 3489, 3612, 3732, 3856, 3906, 3981, 4023, 4035, 4053, 4068, 3994, 3977, 3898, 3792, 3693, 3605, 3497, 3381, 3343, 3260, 3186, 3079, 2936, 2812, 2733, 2635, 2573, 2471, 2384, 2267, 2173, 2102, 2009, 1956, 1863, 1795, 1694, 1578]\n"
   ]
  },
  {
   "cell_type": "code",
   "execution_count": 2,
   "metadata": {},
   "outputs": [
    {
     "output_type": "execute_result",
     "data": {
      "text/plain": [
       "    ricoverati_con_sintomi  terapia_intensiva  isolamento_domiciliare  \\\n",
       "0                       -1                 -1                      -1   \n",
       "1                       -1                 -1                      -1   \n",
       "2                       -1                 -1                      -1   \n",
       "3                       54                 26                      49   \n",
       "4                      101                 26                      94   \n",
       "..                     ...                ...                     ...   \n",
       "67                   20353               1956                   83504   \n",
       "68                   19723               1863                   83619   \n",
       "69                   19210               1795                   83652   \n",
       "70                   18149               1694                   81708   \n",
       "71                   17569               1578                   81796   \n",
       "\n",
       "    totale_casi  totale_positivi  dimessi_guariti  deceduti stato  \n",
       "0             3                3                0         0   ITA  \n",
       "1            20               19                0         1   ITA  \n",
       "2            79               77                0         2   ITA  \n",
       "3           132              129                1         2   ITA  \n",
       "4           229              221                1         7   ITA  \n",
       "..          ...              ...              ...       ...   ...  \n",
       "67       199414           105813            66624     26977   ITA  \n",
       "68       201505           105205            68941     27359   ITA  \n",
       "69       203591           104657            71252     27682   ITA  \n",
       "70       205463           101551            75945     27967   ITA  \n",
       "71       207428           100943            78249     28236   ITA  \n",
       "\n",
       "[72 rows x 8 columns]"
      ],
      "text/html": "<div>\n<style scoped>\n    .dataframe tbody tr th:only-of-type {\n        vertical-align: middle;\n    }\n\n    .dataframe tbody tr th {\n        vertical-align: top;\n    }\n\n    .dataframe thead th {\n        text-align: right;\n    }\n</style>\n<table border=\"1\" class=\"dataframe\">\n  <thead>\n    <tr style=\"text-align: right;\">\n      <th></th>\n      <th>ricoverati_con_sintomi</th>\n      <th>terapia_intensiva</th>\n      <th>isolamento_domiciliare</th>\n      <th>totale_casi</th>\n      <th>totale_positivi</th>\n      <th>dimessi_guariti</th>\n      <th>deceduti</th>\n      <th>stato</th>\n    </tr>\n  </thead>\n  <tbody>\n    <tr>\n      <th>0</th>\n      <td>-1</td>\n      <td>-1</td>\n      <td>-1</td>\n      <td>3</td>\n      <td>3</td>\n      <td>0</td>\n      <td>0</td>\n      <td>ITA</td>\n    </tr>\n    <tr>\n      <th>1</th>\n      <td>-1</td>\n      <td>-1</td>\n      <td>-1</td>\n      <td>20</td>\n      <td>19</td>\n      <td>0</td>\n      <td>1</td>\n      <td>ITA</td>\n    </tr>\n    <tr>\n      <th>2</th>\n      <td>-1</td>\n      <td>-1</td>\n      <td>-1</td>\n      <td>79</td>\n      <td>77</td>\n      <td>0</td>\n      <td>2</td>\n      <td>ITA</td>\n    </tr>\n    <tr>\n      <th>3</th>\n      <td>54</td>\n      <td>26</td>\n      <td>49</td>\n      <td>132</td>\n      <td>129</td>\n      <td>1</td>\n      <td>2</td>\n      <td>ITA</td>\n    </tr>\n    <tr>\n      <th>4</th>\n      <td>101</td>\n      <td>26</td>\n      <td>94</td>\n      <td>229</td>\n      <td>221</td>\n      <td>1</td>\n      <td>7</td>\n      <td>ITA</td>\n    </tr>\n    <tr>\n      <th>...</th>\n      <td>...</td>\n      <td>...</td>\n      <td>...</td>\n      <td>...</td>\n      <td>...</td>\n      <td>...</td>\n      <td>...</td>\n      <td>...</td>\n    </tr>\n    <tr>\n      <th>67</th>\n      <td>20353</td>\n      <td>1956</td>\n      <td>83504</td>\n      <td>199414</td>\n      <td>105813</td>\n      <td>66624</td>\n      <td>26977</td>\n      <td>ITA</td>\n    </tr>\n    <tr>\n      <th>68</th>\n      <td>19723</td>\n      <td>1863</td>\n      <td>83619</td>\n      <td>201505</td>\n      <td>105205</td>\n      <td>68941</td>\n      <td>27359</td>\n      <td>ITA</td>\n    </tr>\n    <tr>\n      <th>69</th>\n      <td>19210</td>\n      <td>1795</td>\n      <td>83652</td>\n      <td>203591</td>\n      <td>104657</td>\n      <td>71252</td>\n      <td>27682</td>\n      <td>ITA</td>\n    </tr>\n    <tr>\n      <th>70</th>\n      <td>18149</td>\n      <td>1694</td>\n      <td>81708</td>\n      <td>205463</td>\n      <td>101551</td>\n      <td>75945</td>\n      <td>27967</td>\n      <td>ITA</td>\n    </tr>\n    <tr>\n      <th>71</th>\n      <td>17569</td>\n      <td>1578</td>\n      <td>81796</td>\n      <td>207428</td>\n      <td>100943</td>\n      <td>78249</td>\n      <td>28236</td>\n      <td>ITA</td>\n    </tr>\n  </tbody>\n</table>\n<p>72 rows × 8 columns</p>\n</div>"
     },
     "metadata": {},
     "execution_count": 2
    }
   ],
   "source": [
    "data = {\n",
    "    'ricoverati_con_sintomi': Ricoverati_sintomi,\n",
    "    'terapia_intensiva': Terapia_intensiva,\n",
    "    'isolamento_domiciliare': Isolamento_domiciliare,\n",
    "    'totale_casi': CasiTotali,\n",
    "    'totale_positivi': Positivi,\n",
    "    'dimessi_guariti': Guariti,\n",
    "    'deceduti': Deceduti\n",
    "}\n",
    "\n",
    "df = pd.DataFrame(data)\n",
    "\n",
    "df['stato'] = 'ITA'\n",
    "\n",
    "df"
   ]
  },
  {
   "cell_type": "code",
   "execution_count": 3,
   "metadata": {},
   "outputs": [
    {
     "output_type": "execute_result",
     "data": {
      "text/plain": [
       "    ricoverati_con_sintomi  terapia_intensiva  isolamento_domiciliare  \\\n",
       "0                       -1                 -1                      -1   \n",
       "1                       -1                 -1                      -1   \n",
       "2                       -1                 -1                      -1   \n",
       "3                       54                 26                      49   \n",
       "4                      101                 26                      94   \n",
       "..                     ...                ...                     ...   \n",
       "67                   20353               1956                   83504   \n",
       "68                   19723               1863                   83619   \n",
       "69                   19210               1795                   83652   \n",
       "70                   18149               1694                   81708   \n",
       "71                   17569               1578                   81796   \n",
       "\n",
       "    totale_casi  totale_positivi  dimessi_guariti  deceduti stato       data  \\\n",
       "0             3                3                0         0   ITA 2020-02-20   \n",
       "1            20               19                0         1   ITA 2020-02-21   \n",
       "2            79               77                0         2   ITA 2020-02-22   \n",
       "3           132              129                1         2   ITA 2020-02-23   \n",
       "4           229              221                1         7   ITA 2020-02-24   \n",
       "..          ...              ...              ...       ...   ...        ...   \n",
       "67       199414           105813            66624     26977   ITA 2020-04-27   \n",
       "68       201505           105205            68941     27359   ITA 2020-04-28   \n",
       "69       203591           104657            71252     27682   ITA 2020-04-29   \n",
       "70       205463           101551            75945     27967   ITA 2020-04-30   \n",
       "71       207428           100943            78249     28236   ITA 2020-05-01   \n",
       "\n",
       "    totale_ospedalizzati  \n",
       "0                      3  \n",
       "1                     19  \n",
       "2                     77  \n",
       "3                    129  \n",
       "4                    127  \n",
       "..                   ...  \n",
       "67                 22309  \n",
       "68                 21586  \n",
       "69                 21005  \n",
       "70                 19843  \n",
       "71                 19147  \n",
       "\n",
       "[72 rows x 10 columns]"
      ],
      "text/html": "<div>\n<style scoped>\n    .dataframe tbody tr th:only-of-type {\n        vertical-align: middle;\n    }\n\n    .dataframe tbody tr th {\n        vertical-align: top;\n    }\n\n    .dataframe thead th {\n        text-align: right;\n    }\n</style>\n<table border=\"1\" class=\"dataframe\">\n  <thead>\n    <tr style=\"text-align: right;\">\n      <th></th>\n      <th>ricoverati_con_sintomi</th>\n      <th>terapia_intensiva</th>\n      <th>isolamento_domiciliare</th>\n      <th>totale_casi</th>\n      <th>totale_positivi</th>\n      <th>dimessi_guariti</th>\n      <th>deceduti</th>\n      <th>stato</th>\n      <th>data</th>\n      <th>totale_ospedalizzati</th>\n    </tr>\n  </thead>\n  <tbody>\n    <tr>\n      <th>0</th>\n      <td>-1</td>\n      <td>-1</td>\n      <td>-1</td>\n      <td>3</td>\n      <td>3</td>\n      <td>0</td>\n      <td>0</td>\n      <td>ITA</td>\n      <td>2020-02-20</td>\n      <td>3</td>\n    </tr>\n    <tr>\n      <th>1</th>\n      <td>-1</td>\n      <td>-1</td>\n      <td>-1</td>\n      <td>20</td>\n      <td>19</td>\n      <td>0</td>\n      <td>1</td>\n      <td>ITA</td>\n      <td>2020-02-21</td>\n      <td>19</td>\n    </tr>\n    <tr>\n      <th>2</th>\n      <td>-1</td>\n      <td>-1</td>\n      <td>-1</td>\n      <td>79</td>\n      <td>77</td>\n      <td>0</td>\n      <td>2</td>\n      <td>ITA</td>\n      <td>2020-02-22</td>\n      <td>77</td>\n    </tr>\n    <tr>\n      <th>3</th>\n      <td>54</td>\n      <td>26</td>\n      <td>49</td>\n      <td>132</td>\n      <td>129</td>\n      <td>1</td>\n      <td>2</td>\n      <td>ITA</td>\n      <td>2020-02-23</td>\n      <td>129</td>\n    </tr>\n    <tr>\n      <th>4</th>\n      <td>101</td>\n      <td>26</td>\n      <td>94</td>\n      <td>229</td>\n      <td>221</td>\n      <td>1</td>\n      <td>7</td>\n      <td>ITA</td>\n      <td>2020-02-24</td>\n      <td>127</td>\n    </tr>\n    <tr>\n      <th>...</th>\n      <td>...</td>\n      <td>...</td>\n      <td>...</td>\n      <td>...</td>\n      <td>...</td>\n      <td>...</td>\n      <td>...</td>\n      <td>...</td>\n      <td>...</td>\n      <td>...</td>\n    </tr>\n    <tr>\n      <th>67</th>\n      <td>20353</td>\n      <td>1956</td>\n      <td>83504</td>\n      <td>199414</td>\n      <td>105813</td>\n      <td>66624</td>\n      <td>26977</td>\n      <td>ITA</td>\n      <td>2020-04-27</td>\n      <td>22309</td>\n    </tr>\n    <tr>\n      <th>68</th>\n      <td>19723</td>\n      <td>1863</td>\n      <td>83619</td>\n      <td>201505</td>\n      <td>105205</td>\n      <td>68941</td>\n      <td>27359</td>\n      <td>ITA</td>\n      <td>2020-04-28</td>\n      <td>21586</td>\n    </tr>\n    <tr>\n      <th>69</th>\n      <td>19210</td>\n      <td>1795</td>\n      <td>83652</td>\n      <td>203591</td>\n      <td>104657</td>\n      <td>71252</td>\n      <td>27682</td>\n      <td>ITA</td>\n      <td>2020-04-29</td>\n      <td>21005</td>\n    </tr>\n    <tr>\n      <th>70</th>\n      <td>18149</td>\n      <td>1694</td>\n      <td>81708</td>\n      <td>205463</td>\n      <td>101551</td>\n      <td>75945</td>\n      <td>27967</td>\n      <td>ITA</td>\n      <td>2020-04-30</td>\n      <td>19843</td>\n    </tr>\n    <tr>\n      <th>71</th>\n      <td>17569</td>\n      <td>1578</td>\n      <td>81796</td>\n      <td>207428</td>\n      <td>100943</td>\n      <td>78249</td>\n      <td>28236</td>\n      <td>ITA</td>\n      <td>2020-05-01</td>\n      <td>19147</td>\n    </tr>\n  </tbody>\n</table>\n<p>72 rows × 10 columns</p>\n</div>"
     },
     "metadata": {},
     "execution_count": 3
    }
   ],
   "source": [
    "# add date column\n",
    "\n",
    "start_date = pd.to_datetime(\"2020-02-20\")\n",
    "\n",
    "dates = [start_date + pd.DateOffset(days=i) for i in range(0, len(CasiTotali))]\n",
    "\n",
    "df['data'] = dates\n",
    "\n",
    "totale_ospedalizzati = pd.concat([df['totale_positivi'][:4], df['totale_positivi'][4:] - df['isolamento_domiciliare'][4:]])\n",
    "df['totale_ospedalizzati'] = totale_ospedalizzati\n",
    "\n",
    "df"
   ]
  },
  {
   "cell_type": "code",
   "execution_count": 4,
   "metadata": {},
   "outputs": [
    {
     "output_type": "execute_result",
     "data": {
      "text/plain": [
       "         data stato  ricoverati_con_sintomi  terapia_intensiva  \\\n",
       "0  2020-02-20   ITA                      -1                 -1   \n",
       "1  2020-02-21   ITA                      -1                 -1   \n",
       "2  2020-02-22   ITA                      -1                 -1   \n",
       "3  2020-02-23   ITA                      54                 26   \n",
       "4  2020-02-24   ITA                     101                 26   \n",
       "..        ...   ...                     ...                ...   \n",
       "67 2020-04-27   ITA                   20353               1956   \n",
       "68 2020-04-28   ITA                   19723               1863   \n",
       "69 2020-04-29   ITA                   19210               1795   \n",
       "70 2020-04-30   ITA                   18149               1694   \n",
       "71 2020-05-01   ITA                   17569               1578   \n",
       "\n",
       "    totale_ospedalizzati  isolamento_domiciliare  dimessi_guariti  deceduti  \\\n",
       "0                      3                      -1                0         0   \n",
       "1                     19                      -1                0         1   \n",
       "2                     77                      -1                0         2   \n",
       "3                    129                      49                1         2   \n",
       "4                    127                      94                1         7   \n",
       "..                   ...                     ...              ...       ...   \n",
       "67                 22309                   83504            66624     26977   \n",
       "68                 21586                   83619            68941     27359   \n",
       "69                 21005                   83652            71252     27682   \n",
       "70                 19843                   81708            75945     27967   \n",
       "71                 19147                   81796            78249     28236   \n",
       "\n",
       "    totale_casi  totale_positivi  \n",
       "0             3                3  \n",
       "1            20               19  \n",
       "2            79               77  \n",
       "3           132              129  \n",
       "4           229              221  \n",
       "..          ...              ...  \n",
       "67       199414           105813  \n",
       "68       201505           105205  \n",
       "69       203591           104657  \n",
       "70       205463           101551  \n",
       "71       207428           100943  \n",
       "\n",
       "[72 rows x 10 columns]"
      ],
      "text/html": "<div>\n<style scoped>\n    .dataframe tbody tr th:only-of-type {\n        vertical-align: middle;\n    }\n\n    .dataframe tbody tr th {\n        vertical-align: top;\n    }\n\n    .dataframe thead th {\n        text-align: right;\n    }\n</style>\n<table border=\"1\" class=\"dataframe\">\n  <thead>\n    <tr style=\"text-align: right;\">\n      <th></th>\n      <th>data</th>\n      <th>stato</th>\n      <th>ricoverati_con_sintomi</th>\n      <th>terapia_intensiva</th>\n      <th>totale_ospedalizzati</th>\n      <th>isolamento_domiciliare</th>\n      <th>dimessi_guariti</th>\n      <th>deceduti</th>\n      <th>totale_casi</th>\n      <th>totale_positivi</th>\n    </tr>\n  </thead>\n  <tbody>\n    <tr>\n      <th>0</th>\n      <td>2020-02-20</td>\n      <td>ITA</td>\n      <td>-1</td>\n      <td>-1</td>\n      <td>3</td>\n      <td>-1</td>\n      <td>0</td>\n      <td>0</td>\n      <td>3</td>\n      <td>3</td>\n    </tr>\n    <tr>\n      <th>1</th>\n      <td>2020-02-21</td>\n      <td>ITA</td>\n      <td>-1</td>\n      <td>-1</td>\n      <td>19</td>\n      <td>-1</td>\n      <td>0</td>\n      <td>1</td>\n      <td>20</td>\n      <td>19</td>\n    </tr>\n    <tr>\n      <th>2</th>\n      <td>2020-02-22</td>\n      <td>ITA</td>\n      <td>-1</td>\n      <td>-1</td>\n      <td>77</td>\n      <td>-1</td>\n      <td>0</td>\n      <td>2</td>\n      <td>79</td>\n      <td>77</td>\n    </tr>\n    <tr>\n      <th>3</th>\n      <td>2020-02-23</td>\n      <td>ITA</td>\n      <td>54</td>\n      <td>26</td>\n      <td>129</td>\n      <td>49</td>\n      <td>1</td>\n      <td>2</td>\n      <td>132</td>\n      <td>129</td>\n    </tr>\n    <tr>\n      <th>4</th>\n      <td>2020-02-24</td>\n      <td>ITA</td>\n      <td>101</td>\n      <td>26</td>\n      <td>127</td>\n      <td>94</td>\n      <td>1</td>\n      <td>7</td>\n      <td>229</td>\n      <td>221</td>\n    </tr>\n    <tr>\n      <th>...</th>\n      <td>...</td>\n      <td>...</td>\n      <td>...</td>\n      <td>...</td>\n      <td>...</td>\n      <td>...</td>\n      <td>...</td>\n      <td>...</td>\n      <td>...</td>\n      <td>...</td>\n    </tr>\n    <tr>\n      <th>67</th>\n      <td>2020-04-27</td>\n      <td>ITA</td>\n      <td>20353</td>\n      <td>1956</td>\n      <td>22309</td>\n      <td>83504</td>\n      <td>66624</td>\n      <td>26977</td>\n      <td>199414</td>\n      <td>105813</td>\n    </tr>\n    <tr>\n      <th>68</th>\n      <td>2020-04-28</td>\n      <td>ITA</td>\n      <td>19723</td>\n      <td>1863</td>\n      <td>21586</td>\n      <td>83619</td>\n      <td>68941</td>\n      <td>27359</td>\n      <td>201505</td>\n      <td>105205</td>\n    </tr>\n    <tr>\n      <th>69</th>\n      <td>2020-04-29</td>\n      <td>ITA</td>\n      <td>19210</td>\n      <td>1795</td>\n      <td>21005</td>\n      <td>83652</td>\n      <td>71252</td>\n      <td>27682</td>\n      <td>203591</td>\n      <td>104657</td>\n    </tr>\n    <tr>\n      <th>70</th>\n      <td>2020-04-30</td>\n      <td>ITA</td>\n      <td>18149</td>\n      <td>1694</td>\n      <td>19843</td>\n      <td>81708</td>\n      <td>75945</td>\n      <td>27967</td>\n      <td>205463</td>\n      <td>101551</td>\n    </tr>\n    <tr>\n      <th>71</th>\n      <td>2020-05-01</td>\n      <td>ITA</td>\n      <td>17569</td>\n      <td>1578</td>\n      <td>19147</td>\n      <td>81796</td>\n      <td>78249</td>\n      <td>28236</td>\n      <td>207428</td>\n      <td>100943</td>\n    </tr>\n  </tbody>\n</table>\n<p>72 rows × 10 columns</p>\n</div>"
     },
     "metadata": {},
     "execution_count": 4
    }
   ],
   "source": [
    "# reorder columns\n",
    "\n",
    "df = df[[\n",
    "    'data', 'stato', 'ricoverati_con_sintomi', 'terapia_intensiva', 'totale_ospedalizzati', 'isolamento_domiciliare',\n",
    "    'dimessi_guariti', 'deceduti', 'totale_casi', 'totale_positivi'\n",
    "]]\n",
    "\n",
    "df"
   ]
  },
  {
   "cell_type": "code",
   "execution_count": 5,
   "metadata": {},
   "outputs": [],
   "source": [
    "df.to_csv(\"./data/giordano.csv\", index=False)"
   ]
  }
 ]
}