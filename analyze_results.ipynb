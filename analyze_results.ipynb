{
 "cells": [
  {
   "cell_type": "code",
   "execution_count": 3,
   "metadata": {
    "pycharm": {
     "is_executing": false
    }
   },
   "outputs": [],
   "source": [
    "import os\n",
    "import pandas as pd\n",
    "import numpy as np\n",
    "from ast import literal_eval\n",
    "%matplotlib inline\n",
    "import matplotlib.pyplot as plt\n",
    "from shutil import copyfile"
   ]
  },
  {
   "cell_type": "code",
   "execution_count": 4,
   "metadata": {
    "pycharm": {
     "is_executing": false
    }
   },
   "outputs": [
    {
     "name": "stdout",
     "text": [
      "59    7.816322\nName: val_risk, dtype: float64\n59    45.925426\nName: test_risk, dtype: float64\n59    14.110578\nName: dataset_risk, dtype: float64\nS_b0.8_g0.3_d0.02_lrb0.0001_lrg1e-05_lrd3e-06_lra0.001_ts45_vl10_st_der100000.0_nd_der0_t_inc0.1_use_alphaFalse_y_loss_weight0.0\n58    3.808903\nName: val_risk, dtype: float64\n58    246.77562\nName: test_risk, dtype: float64\n58    91.88786\nName: dataset_risk, dtype: float64\nP_b0.8_g0.3_d0.02_lrb0.0001_lrg1e-05_lrd3e-06_lra0.001_ts45_vl10_st_der20000.0_nd_der0_t_inc0.1_use_alphaFalse_y_loss_weight0.0\n"
     ],
     "output_type": "stream"
    }
   ],
   "source": [
    "folder = os.path.join(\"regioni.old.4\",\"torch_sir_validation_grid_search\")\n",
    "best_path = os.path.join(os.getcwd(), folder, \"best\")\n",
    "if not os.path.exists(best_path):\n",
    "    os.mkdir(best_path)\n",
    "\n",
    "regions = [\"Sardegna\", \"P.A. Bolzano\"]\n",
    "for region in regions:\n",
    "    path = os.path.join(folder, region, \"scores.csv\")\n",
    "    df = pd.read_csv(path, sep=\"\\t\")\n",
    "    no_alpha_df = df[(df.use_alpha == False)]\n",
    "    best_exp_name = no_alpha_df[no_alpha_df.val_risk == no_alpha_df.val_risk.min()].name.values[0]\n",
    "    print(no_alpha_df[no_alpha_df.name == best_exp_name].val_risk)\n",
    "    print(no_alpha_df[no_alpha_df.name == best_exp_name].test_risk)\n",
    "    print(no_alpha_df[no_alpha_df.name == best_exp_name].dataset_risk)\n",
    "\n",
    "    print(best_exp_name)\n",
    "#     suffixs = [\"_bcd_over_time\", \"_I_fit\", \"_W_fit\", \"_SIR_global\", \"_r0\"]\n",
    "#     file_type = \".png\"\n",
    "#     for suffix in suffixs:\n",
    "#         copyfile(os.path.join(os.getcwd(), folder, region, best_exp_name + suffix + file_type), \n",
    "#                  os.path.join(folder, \"best\", best_exp_name + suffix + file_type))\n"
   ]
  },
  {
   "cell_type": "code",
   "execution_count": 5,
   "metadata": {
    "pycharm": {
     "is_executing": false
    }
   },
   "outputs": [
    {
     "traceback": [
      "\u001b[1;31m---------------------------------------------------------------------------\u001b[0m",
      "\u001b[1;31mFileNotFoundError\u001b[0m                         Traceback (most recent call last)",
      "\u001b[1;32m<ipython-input-5-2bb8bcad562b>\u001b[0m in \u001b[0;36m<module>\u001b[1;34m\u001b[0m\n\u001b[1;32m----> 1\u001b[1;33m \u001b[0mdf\u001b[0m \u001b[1;33m=\u001b[0m \u001b[0mpd\u001b[0m\u001b[1;33m.\u001b[0m\u001b[0mread_csv\u001b[0m\u001b[1;33m(\u001b[0m\u001b[0mos\u001b[0m\u001b[1;33m.\u001b[0m\u001b[0mpath\u001b[0m\u001b[1;33m.\u001b[0m\u001b[0mjoin\u001b[0m\u001b[1;33m(\u001b[0m\u001b[1;34m\"scores.csv\"\u001b[0m\u001b[1;33m)\u001b[0m\u001b[1;33m,\u001b[0m \u001b[0msep\u001b[0m\u001b[1;33m=\u001b[0m\u001b[1;34m\"\\t\"\u001b[0m\u001b[1;33m)\u001b[0m\u001b[1;33m\u001b[0m\u001b[1;33m\u001b[0m\u001b[0m\n\u001b[0m\u001b[0;32m      2\u001b[0m \u001b[1;31m# df[df.lr_gamma <= 0.000003].min()\u001b[0m\u001b[1;33m\u001b[0m\u001b[1;33m\u001b[0m\u001b[1;33m\u001b[0m\u001b[0m\n\u001b[0;32m      3\u001b[0m \u001b[0mdf\u001b[0m\u001b[1;33m[\u001b[0m\u001b[0mdf\u001b[0m\u001b[1;33m.\u001b[0m\u001b[0mval_risk\u001b[0m \u001b[1;33m==\u001b[0m \u001b[0mdf\u001b[0m\u001b[1;33m.\u001b[0m\u001b[0mval_risk\u001b[0m\u001b[1;33m.\u001b[0m\u001b[0mmin\u001b[0m\u001b[1;33m(\u001b[0m\u001b[1;33m)\u001b[0m\u001b[1;33m]\u001b[0m\u001b[1;33m\u001b[0m\u001b[1;33m\u001b[0m\u001b[0m\n\u001b[0;32m      4\u001b[0m \u001b[1;33m\u001b[0m\u001b[0m\n",
      "\u001b[1;32mD:\\ProgramData\\Anaconda3\\envs\\covid-tools\\lib\\site-packages\\pandas\\io\\parsers.py\u001b[0m in \u001b[0;36mparser_f\u001b[1;34m(filepath_or_buffer, sep, delimiter, header, names, index_col, usecols, squeeze, prefix, mangle_dupe_cols, dtype, engine, converters, true_values, false_values, skipinitialspace, skiprows, skipfooter, nrows, na_values, keep_default_na, na_filter, verbose, skip_blank_lines, parse_dates, infer_datetime_format, keep_date_col, date_parser, dayfirst, cache_dates, iterator, chunksize, compression, thousands, decimal, lineterminator, quotechar, quoting, doublequote, escapechar, comment, encoding, dialect, error_bad_lines, warn_bad_lines, delim_whitespace, low_memory, memory_map, float_precision)\u001b[0m\n\u001b[0;32m    674\u001b[0m         )\n\u001b[0;32m    675\u001b[0m \u001b[1;33m\u001b[0m\u001b[0m\n\u001b[1;32m--> 676\u001b[1;33m         \u001b[1;32mreturn\u001b[0m \u001b[0m_read\u001b[0m\u001b[1;33m(\u001b[0m\u001b[0mfilepath_or_buffer\u001b[0m\u001b[1;33m,\u001b[0m \u001b[0mkwds\u001b[0m\u001b[1;33m)\u001b[0m\u001b[1;33m\u001b[0m\u001b[1;33m\u001b[0m\u001b[0m\n\u001b[0m\u001b[0;32m    677\u001b[0m \u001b[1;33m\u001b[0m\u001b[0m\n\u001b[0;32m    678\u001b[0m     \u001b[0mparser_f\u001b[0m\u001b[1;33m.\u001b[0m\u001b[0m__name__\u001b[0m \u001b[1;33m=\u001b[0m \u001b[0mname\u001b[0m\u001b[1;33m\u001b[0m\u001b[1;33m\u001b[0m\u001b[0m\n",
      "\u001b[1;32mD:\\ProgramData\\Anaconda3\\envs\\covid-tools\\lib\\site-packages\\pandas\\io\\parsers.py\u001b[0m in \u001b[0;36m_read\u001b[1;34m(filepath_or_buffer, kwds)\u001b[0m\n\u001b[0;32m    446\u001b[0m \u001b[1;33m\u001b[0m\u001b[0m\n\u001b[0;32m    447\u001b[0m     \u001b[1;31m# Create the parser.\u001b[0m\u001b[1;33m\u001b[0m\u001b[1;33m\u001b[0m\u001b[1;33m\u001b[0m\u001b[0m\n\u001b[1;32m--> 448\u001b[1;33m     \u001b[0mparser\u001b[0m \u001b[1;33m=\u001b[0m \u001b[0mTextFileReader\u001b[0m\u001b[1;33m(\u001b[0m\u001b[0mfp_or_buf\u001b[0m\u001b[1;33m,\u001b[0m \u001b[1;33m**\u001b[0m\u001b[0mkwds\u001b[0m\u001b[1;33m)\u001b[0m\u001b[1;33m\u001b[0m\u001b[1;33m\u001b[0m\u001b[0m\n\u001b[0m\u001b[0;32m    449\u001b[0m \u001b[1;33m\u001b[0m\u001b[0m\n\u001b[0;32m    450\u001b[0m     \u001b[1;32mif\u001b[0m \u001b[0mchunksize\u001b[0m \u001b[1;32mor\u001b[0m \u001b[0miterator\u001b[0m\u001b[1;33m:\u001b[0m\u001b[1;33m\u001b[0m\u001b[1;33m\u001b[0m\u001b[0m\n",
      "\u001b[1;32mD:\\ProgramData\\Anaconda3\\envs\\covid-tools\\lib\\site-packages\\pandas\\io\\parsers.py\u001b[0m in \u001b[0;36m__init__\u001b[1;34m(self, f, engine, **kwds)\u001b[0m\n\u001b[0;32m    878\u001b[0m             \u001b[0mself\u001b[0m\u001b[1;33m.\u001b[0m\u001b[0moptions\u001b[0m\u001b[1;33m[\u001b[0m\u001b[1;34m\"has_index_names\"\u001b[0m\u001b[1;33m]\u001b[0m \u001b[1;33m=\u001b[0m \u001b[0mkwds\u001b[0m\u001b[1;33m[\u001b[0m\u001b[1;34m\"has_index_names\"\u001b[0m\u001b[1;33m]\u001b[0m\u001b[1;33m\u001b[0m\u001b[1;33m\u001b[0m\u001b[0m\n\u001b[0;32m    879\u001b[0m \u001b[1;33m\u001b[0m\u001b[0m\n\u001b[1;32m--> 880\u001b[1;33m         \u001b[0mself\u001b[0m\u001b[1;33m.\u001b[0m\u001b[0m_make_engine\u001b[0m\u001b[1;33m(\u001b[0m\u001b[0mself\u001b[0m\u001b[1;33m.\u001b[0m\u001b[0mengine\u001b[0m\u001b[1;33m)\u001b[0m\u001b[1;33m\u001b[0m\u001b[1;33m\u001b[0m\u001b[0m\n\u001b[0m\u001b[0;32m    881\u001b[0m \u001b[1;33m\u001b[0m\u001b[0m\n\u001b[0;32m    882\u001b[0m     \u001b[1;32mdef\u001b[0m \u001b[0mclose\u001b[0m\u001b[1;33m(\u001b[0m\u001b[0mself\u001b[0m\u001b[1;33m)\u001b[0m\u001b[1;33m:\u001b[0m\u001b[1;33m\u001b[0m\u001b[1;33m\u001b[0m\u001b[0m\n",
      "\u001b[1;32mD:\\ProgramData\\Anaconda3\\envs\\covid-tools\\lib\\site-packages\\pandas\\io\\parsers.py\u001b[0m in \u001b[0;36m_make_engine\u001b[1;34m(self, engine)\u001b[0m\n\u001b[0;32m   1112\u001b[0m     \u001b[1;32mdef\u001b[0m \u001b[0m_make_engine\u001b[0m\u001b[1;33m(\u001b[0m\u001b[0mself\u001b[0m\u001b[1;33m,\u001b[0m \u001b[0mengine\u001b[0m\u001b[1;33m=\u001b[0m\u001b[1;34m\"c\"\u001b[0m\u001b[1;33m)\u001b[0m\u001b[1;33m:\u001b[0m\u001b[1;33m\u001b[0m\u001b[1;33m\u001b[0m\u001b[0m\n\u001b[0;32m   1113\u001b[0m         \u001b[1;32mif\u001b[0m \u001b[0mengine\u001b[0m \u001b[1;33m==\u001b[0m \u001b[1;34m\"c\"\u001b[0m\u001b[1;33m:\u001b[0m\u001b[1;33m\u001b[0m\u001b[1;33m\u001b[0m\u001b[0m\n\u001b[1;32m-> 1114\u001b[1;33m             \u001b[0mself\u001b[0m\u001b[1;33m.\u001b[0m\u001b[0m_engine\u001b[0m \u001b[1;33m=\u001b[0m \u001b[0mCParserWrapper\u001b[0m\u001b[1;33m(\u001b[0m\u001b[0mself\u001b[0m\u001b[1;33m.\u001b[0m\u001b[0mf\u001b[0m\u001b[1;33m,\u001b[0m \u001b[1;33m**\u001b[0m\u001b[0mself\u001b[0m\u001b[1;33m.\u001b[0m\u001b[0moptions\u001b[0m\u001b[1;33m)\u001b[0m\u001b[1;33m\u001b[0m\u001b[1;33m\u001b[0m\u001b[0m\n\u001b[0m\u001b[0;32m   1115\u001b[0m         \u001b[1;32melse\u001b[0m\u001b[1;33m:\u001b[0m\u001b[1;33m\u001b[0m\u001b[1;33m\u001b[0m\u001b[0m\n\u001b[0;32m   1116\u001b[0m             \u001b[1;32mif\u001b[0m \u001b[0mengine\u001b[0m \u001b[1;33m==\u001b[0m \u001b[1;34m\"python\"\u001b[0m\u001b[1;33m:\u001b[0m\u001b[1;33m\u001b[0m\u001b[1;33m\u001b[0m\u001b[0m\n",
      "\u001b[1;32mD:\\ProgramData\\Anaconda3\\envs\\covid-tools\\lib\\site-packages\\pandas\\io\\parsers.py\u001b[0m in \u001b[0;36m__init__\u001b[1;34m(self, src, **kwds)\u001b[0m\n\u001b[0;32m   1889\u001b[0m         \u001b[0mkwds\u001b[0m\u001b[1;33m[\u001b[0m\u001b[1;34m\"usecols\"\u001b[0m\u001b[1;33m]\u001b[0m \u001b[1;33m=\u001b[0m \u001b[0mself\u001b[0m\u001b[1;33m.\u001b[0m\u001b[0musecols\u001b[0m\u001b[1;33m\u001b[0m\u001b[1;33m\u001b[0m\u001b[0m\n\u001b[0;32m   1890\u001b[0m \u001b[1;33m\u001b[0m\u001b[0m\n\u001b[1;32m-> 1891\u001b[1;33m         \u001b[0mself\u001b[0m\u001b[1;33m.\u001b[0m\u001b[0m_reader\u001b[0m \u001b[1;33m=\u001b[0m \u001b[0mparsers\u001b[0m\u001b[1;33m.\u001b[0m\u001b[0mTextReader\u001b[0m\u001b[1;33m(\u001b[0m\u001b[0msrc\u001b[0m\u001b[1;33m,\u001b[0m \u001b[1;33m**\u001b[0m\u001b[0mkwds\u001b[0m\u001b[1;33m)\u001b[0m\u001b[1;33m\u001b[0m\u001b[1;33m\u001b[0m\u001b[0m\n\u001b[0m\u001b[0;32m   1892\u001b[0m         \u001b[0mself\u001b[0m\u001b[1;33m.\u001b[0m\u001b[0munnamed_cols\u001b[0m \u001b[1;33m=\u001b[0m \u001b[0mself\u001b[0m\u001b[1;33m.\u001b[0m\u001b[0m_reader\u001b[0m\u001b[1;33m.\u001b[0m\u001b[0munnamed_cols\u001b[0m\u001b[1;33m\u001b[0m\u001b[1;33m\u001b[0m\u001b[0m\n\u001b[0;32m   1893\u001b[0m \u001b[1;33m\u001b[0m\u001b[0m\n",
      "\u001b[1;32mpandas\\_libs\\parsers.pyx\u001b[0m in \u001b[0;36mpandas._libs.parsers.TextReader.__cinit__\u001b[1;34m()\u001b[0m\n",
      "\u001b[1;32mpandas\\_libs\\parsers.pyx\u001b[0m in \u001b[0;36mpandas._libs.parsers.TextReader._setup_parser_source\u001b[1;34m()\u001b[0m\n",
      "\u001b[1;31mFileNotFoundError\u001b[0m: [Errno 2] File scores.csv does not exist: 'scores.csv'"
     ],
     "ename": "FileNotFoundError",
     "evalue": "[Errno 2] File scores.csv does not exist: 'scores.csv'",
     "output_type": "error"
    }
   ],
   "source": [
    "df = pd.read_csv(os.path.join(\"scores.csv\"), sep=\"\\t\")\n",
    "# df[df.lr_gamma <= 0.000003].min()\n",
    "df[df.val_risk == df.val_risk.min()]"
   ]
  },
  {
   "cell_type": "code",
   "execution_count": null,
   "metadata": {
    "pycharm": {
     "is_executing": false
    }
   },
   "outputs": [],
   "source": [
    "# df.groupby([\"beta_t0\",\"train_size\"]).dataset_risk.mean()"
   ]
  },
  {
   "cell_type": "code",
   "execution_count": null,
   "metadata": {
    "pycharm": {
     "is_executing": false
    }
   },
   "outputs": [],
   "source": [
    "def compute_r0(df, t):\n",
    "    df[\"r0_t\" + str(t)] = df[\"final_beta_t\" + str(t)] / df[\"final_gamma_t\" + str(t)]\n",
    "    \n",
    "def get_list_from_column(df, raw_pos, column, max_size):\n",
    "    col_val = df[column].iloc[raw_pos]\n",
    "    x = literal_eval(col_val)\n",
    "    return x +  [-1.0]*(max_size - len(x))\n",
    "\n",
    "def get_res_parameters(scores_df, params=(\"beta\", \"gamma\", \"delta\")):\n",
    "    max_len = scores_df[\"train_size\"].max()\n",
    "    p_columns = [\"final_\" + p + \"_t\" + str(i) for p in params for i in range(max_len)]\n",
    "    score_columns = list(set(scores_df.columns) - set(params))\n",
    "    #     params_df.at[:, score_columns] = scores_df.loc[:, score_columns] # copies everything in the first columns\n",
    "    \n",
    "    rows = []\n",
    "    for i in range(scores_df.shape[0]):\n",
    "        # create rows\n",
    "        values = []\n",
    "        for p in params:\n",
    "            val = get_list_from_column(scores_df, i, p, max_len)\n",
    "            values.extend(val)\n",
    "        \n",
    "        rows.append(list(scores_df.iloc[i][score_columns]) + values)\n",
    "        \n",
    "    \n",
    "    params_df = pd.DataFrame(rows, columns=score_columns + p_columns)\n",
    "    for p in p_columns:\n",
    "        params_df.loc[params_df[p] == -1, p] = None\n",
    "\n",
    "    for t in range(max_len):\n",
    "        compute_r0(params_df, t)\n",
    "    \n",
    "    return params_df, p_columns\n",
    "        \n",
    "df = pd.read_csv(path, sep=\"\\t\")        \n",
    "params_df, p_columns = get_res_parameters(df)\n"
   ]
  },
  {
   "cell_type": "code",
   "execution_count": null,
   "metadata": {
    "pycharm": {
     "is_executing": false
    }
   },
   "outputs": [],
   "source": [
    "# params_df[[p_columns[0], p_columns[-1]]].plot.box()\n",
    "params_df[[\"final_beta_t0\", \"final_gamma_t0\", \"final_delta_t0\"]].plot.box(title=region +\" initial estimated params\")\n",
    "params_df[[\"final_beta_t39\", \"final_gamma_t39\", \"final_delta_t39\"]].plot.box(title=region + \" final estimated params\")\n",
    "params_df[[\"r0_t0\", \"r0_t39\"]].plot.box(title=region +\" estimated initial and final R0\")"
   ]
  },
  {
   "cell_type": "code",
   "execution_count": null,
   "metadata": {
    "pycharm": {
     "is_executing": false
    }
   },
   "outputs": [],
   "source": [
    "# params_df.loc[[0], [\"r0_t\"+ str(t) for t in range(20)]].plot()\n",
    "params_df.groupby([\"beta_t0\",\"train_size\"]).dataset_risk.mean().plot(title=region + \" dataset risk with different beta, train_size\", legend=True)"
   ]
  },
  {
   "cell_type": "code",
   "execution_count": null,
   "metadata": {
    "pycharm": {
     "is_executing": false
    }
   },
   "outputs": [],
   "source": [
    "fig, ax = plt.subplots()\n",
    "r0_cols = [\"r0_t\"+ str(t) for t in range(39)]\n",
    "ax.plot([1.0]*len(r0_cols), '-r')\n",
    "params_df[r0_cols].mean().plot(ax=ax, title=region + \" averaged R0 over time\")"
   ]
  },
  {
   "cell_type": "code",
   "execution_count": null,
   "metadata": {
    "pycharm": {
     "is_executing": false
    }
   },
   "outputs": [],
   "source": [
    "# R0 of single experiment\n",
    "exp_id = params_df.val_risk.idxmin()\n",
    "print(params_df.iloc[exp_id][\"name\"])\n",
    "r0_cols = [\"r0_t\"+ str(t) for t in range(39)]\n",
    "fig, ax = plt.subplots()\n",
    "ax.plot([1.0]*len(r0_cols), '-r')\n",
    "params_df[r0_cols].iloc[exp_id].plot(ax=ax, label=\"$r_0$\", legend=True, title=region + \" R0 over time\")\n",
    "plt.savefig(os.path.join(region, \"r0.pdf\"))"
   ]
  },
  {
   "cell_type": "code",
   "execution_count": null,
   "metadata": {
    "pycharm": {
     "is_executing": false
    }
   },
   "outputs": [],
   "source": [
    "params_df.dataset_risk.idxmin()"
   ]
  },
  {
   "cell_type": "code",
   "execution_count": null,
   "metadata": {
    "pycharm": {
     "is_executing": false
    }
   },
   "outputs": [],
   "source": [
    "# best_res = params_df[params_df[\"dataset_risk\"] < 120]\n",
    "best_res = params_df[params_df[\"dataset_risk\"] < 30]\n",
    "best_res[[\"final_beta_t0\", \"final_gamma_t0\", \"final_delta_t0\"]].plot.box(title=region +\" initial estimated params\")\n",
    "best_res[[\"final_beta_t39\", \"final_gamma_t39\", \"final_delta_t39\"]].plot.box(title=region + \" final estimated params\")\n",
    "best_res[[\"r0_t0\", \"r0_t39\"]].plot.box(title=region +\" estimated initial and final R0\")"
   ]
  },
  {
   "cell_type": "code",
   "execution_count": null,
   "metadata": {
    "pycharm": {
     "is_executing": false
    }
   },
   "outputs": [],
   "source": [
    "params_df.iloc[17][\"final_delta_t0\"]"
   ]
  },
  {
   "cell_type": "code",
   "execution_count": null,
   "metadata": {
    "pycharm": {
     "is_executing": false
    }
   },
   "outputs": [],
   "source": []
  }
 ],
 "metadata": {
  "anaconda-cloud": {},
  "kernelspec": {
   "display_name": "Python 3",
   "language": "python",
   "name": "python3"
  },
  "language_info": {
   "codemirror_mode": {
    "name": "ipython",
    "version": 3
   },
   "file_extension": ".py",
   "mimetype": "text/x-python",
   "name": "python",
   "nbconvert_exporter": "python",
   "pygments_lexer": "ipython3",
   "version": "3.7.6"
  }
 },
 "nbformat": 4,
 "nbformat_minor": 1
}