{
 "cells": [
  {
   "cell_type": "code",
   "execution_count": 8,
   "metadata": {},
   "outputs": [],
   "source": [
    "import os\n",
    "import json\n",
    "import pandas as pd"
   ]
  },
  {
   "cell_type": "code",
   "execution_count": 9,
   "metadata": {
    "tags": [
     "outputPrepend"
    ]
   },
   "outputs": [],
   "source": [
    "results_path = os.path.join(os.getcwd(), \"regioni\", \"sidarthe\", \"Italy\")\n",
    "experiments = [dir for dir in os.listdir(results_path) if os.path.isdir(os.path.join(results_path, dir))]\n",
    "\n",
    "exps = {}\n",
    "for exp_dir in experiments:\n",
    "    json_path = os.path.join(results_path, exp_dir, \"final.json\")\n",
    "    if os.path.exists(json_path):\n",
    "        with open(json_path) as json_file:\n",
    "            exps[exp_dir] = json.load(json_file)\n",
    "\n"
   ]
  },
  {
   "cell_type": "code",
   "execution_count": 10,
   "metadata": {},
   "outputs": [
    {
     "output_type": "stream",
     "name": "stdout",
     "text": "Best exp name: 4e2290fe-a03c-4d52-9bc6-98e4be7fd5f8\nSettings used: \n{\n\n    \"region\": \"Italy\",\n\n    \"initial_values\": {\n\n        \"alpha\": 0.6,\n\n        \"beta\": 0.11,\n\n        \"gamma\": 0.7,\n\n        \"delta\": 0.11,\n\n        \"epsilon\": 0.171,\n\n        \"theta\": 0.371,\n\n        \"xi\": 0.017,\n\n        \"eta\": 0.125,\n\n        \"mu\": 0.017,\n\n        \"nu\": 0.027,\n\n        \"tau\": 0.01,\n\n        \"lambda\": 0.034,\n\n        \"kappa\": 0.017,\n\n        \"zeta\": 0.125,\n\n        \"rho\": 0.034,\n\n        \"sigma\": 0.017\n\n    },\n\n    \"learning_rates\": {\n\n        \"alpha\": 1e-05,\n\n        \"beta\": 1e-05,\n\n        \"gamma\": 1e-05,\n\n        \"delta\": 1e-05,\n\n        \"epsilon\": 1e-05,\n\n        \"theta\": 1e-07,\n\n        \"xi\": 1e-05,\n\n        \"eta\": 1e-05,\n\n        \"mu\": 1e-05,\n\n        \"nu\": 1e-05,\n\n        \"tau\": 1e-07,\n\n        \"lambda\": 1e-05,\n\n        \"kappa\": 1e-05,\n\n        \"zeta\": 1e-05,\n\n        \"rho\": 1e-05,\n\n        \"sigma\": 1e-05\n\n    },\n\n    \"target_weights\": {\n\n        \"d_weight\": 1.0,\n\n        \"r_weight\": 10.0,\n\n        \"t_weight\": 5.0,\n\n        \"h_weight\": 1.0,\n\n        \"e_weight\": 0.0\n\n    },\n\n    \"train_size\": 46,\n\n    \"val_len\": 20,\n\n    \"der_1st_reg\": 1000.0,\n\n    \"t_inc\": 1.0,\n\n    \"m\": 0.1,\n\n    \"a\": 0.07,\n\n    \"integrator\": \"Heun\",\n\n    \"loss_type\": \"rmse\",\n\n    \"started\": \"31/May/2020 16:20:43\"\n\n}\n"
    }
   ],
   "source": [
    "validation_key = \"rmse\"\n",
    "\n",
    "df = pd.DataFrame()\n",
    " \n",
    "#for exp_name, exp in exps.items():\n",
    "\n",
    "best_exp = max(exps, key=lambda k: exps[k][\"val_risks\"][validation_key])\n",
    "\n",
    "print(f\"Best exp name: {best_exp}\")\n",
    "print(\"Settings used: \")\n",
    "with open(os.path.join(results_path, best_exp, \"settings.json\")) as settings_file:\n",
    "    for line in settings_file.readlines():\n",
    "        print(line, end='')"
   ]
  },
  {
   "cell_type": "code",
   "execution_count": null,
   "metadata": {},
   "outputs": [],
   "source": []
  },
  {
   "cell_type": "code",
   "execution_count": null,
   "metadata": {},
   "outputs": [],
   "source": []
  }
 ],
 "metadata": {
  "language_info": {
   "codemirror_mode": {
    "name": "ipython",
    "version": 3
   },
   "file_extension": ".py",
   "mimetype": "text/x-python",
   "name": "python",
   "nbconvert_exporter": "python",
   "pygments_lexer": "ipython3",
   "version": "3.7.6-final"
  },
  "orig_nbformat": 2,
  "kernelspec": {
   "name": "python37664bitcovidtoolscondaed93c0ad89524ea5ad4f4946bde80980",
   "display_name": "Python 3.7.6 64-bit ('covid-tools': conda)"
  }
 },
 "nbformat": 4,
 "nbformat_minor": 2
}