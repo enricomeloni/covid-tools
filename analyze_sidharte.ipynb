{
 "cells": [
  {
   "cell_type": "code",
   "execution_count": 1,
   "metadata": {},
   "outputs": [],
   "source": [
    "import os\n",
    "import json\n",
    "import pandas as pd"
   ]
  },
  {
   "cell_type": "code",
   "execution_count": 2,
   "metadata": {
    "tags": []
   },
   "outputs": [
    {
     "output_type": "stream",
     "name": "stdout",
     "text": "d:\\GitHub\\covid-tools\\regioni\\sidarthe\\runs_100\\Italy\n"
    }
   ],
   "source": [
    "results_path = os.path.join(os.getcwd(), \"regioni\", \"sidarthe\", \"runs_100\", \"Italy\") #, \"sidarthe\", \"Italy\")\n",
    "experiments = [dir for dir in os.listdir(results_path) if os.path.isdir(os.path.join(results_path, dir))]\n",
    "print(results_path)\n",
    "\n",
    "exps = {}\n",
    "for exp_dir in experiments:\n",
    "    json_path = os.path.join(results_path, exp_dir, \"final.json\")\n",
    "    settings_json_path = os.path.join(results_path, exp_dir, \"settings.json\")\n",
    "    if os.path.exists(json_path):\n",
    "        with open(json_path) as json_file:\n",
    "            exps[exp_dir] = json.load(json_file)\n",
    "        with open(settings_json_path) as json_file:\n",
    "            exps[exp_dir]['settings'] = json.load(json_file)"
   ]
  },
  {
   "cell_type": "code",
   "execution_count": 3,
   "metadata": {
    "tags": []
   },
   "outputs": [
    {
     "output_type": "stream",
     "name": "stdout",
     "text": "{False: 9, True: 9}\n"
    }
   ],
   "source": [
    "momentum_counts = {\n",
    "    False: 0,\n",
    "    True: 0\n",
    "}\n",
    "\n",
    "for exp_id, exp in exps.items():\n",
    "    momentum = exp['settings']['momentum']\n",
    "    momentum_counts[momentum] += 1\n",
    "\n",
    "print(momentum_counts)\n"
   ]
  },
  {
   "cell_type": "code",
   "execution_count": 6,
   "metadata": {
    "tags": []
   },
   "outputs": [
    {
     "output_type": "stream",
     "name": "stdout",
     "text": "Best exp name: 2f00a3c2-38f2-4835-993d-029b3914ac5c\n"
    }
   ],
   "source": [
    "validation_key = \"rmse\"\n",
    "\n",
    "df = pd.DataFrame()\n",
    " \n",
    "#for exp_name, exp in exps.items():\n",
    "def selector(k):\n",
    "    tot_loss = 0.\n",
    "    for loss in \"dehrt\":   \n",
    "        item = exps[k][\"val_risks\"][f\"{loss}_rmse\"]\n",
    "        tot_loss += item[0] if isinstance(item, list) else item\n",
    "    return tot_loss\n",
    "\n",
    "best_exp = min(exps, key=selector)\n",
    "\n",
    "print(f\"Best exp name: {best_exp}\")"
   ]
  },
  {
   "cell_type": "code",
   "execution_count": 9,
   "metadata": {
    "tags": []
   },
   "outputs": [
    {
     "output_type": "stream",
     "name": "stdout",
     "text": "Settings used: \n{'started': '07/August/2020 10:58:11', 'region': 'Italy', 'learning_rates': {'alpha': 1e-05, 'beta': 1e-06, 'gamma': 1e-05, 'delta': 1e-06, 'epsilon': 1e-05, 'theta': 1e-07, 'xi': 1e-05, 'eta': 1e-05, 'mu': 1e-05, 'nu': 1e-05, 'tau': 1e-07, 'lambda': 1e-05, 'kappa': 1e-05, 'zeta': 1e-05, 'rho': 1e-05, 'sigma': 1e-05}, 'target_weights': {'d_weight': 1.0, 'r_weight': 1.0, 't_weight': 1.0, 'h_weight': 1.0, 'e_weight': 0.0}, 'train_size': 100, 'val_len': 40, 'der_1st_reg': 41000.0, 't_inc': 1.0, 'momentum': True, 'm': 0.125, 'a': 0.05, 'integrator': 'Heun', 'loss_type': 'rmse', 'initial_values': {'alpha': [0.57, 0.57, 0.57, 0.57, 0.422, 0.422, 0.422, 0.422, 0.422, 0.422, 0.422, 0.422, 0.422, 0.422, 0.422, 0.422, 0.422, 0.422, 0.422, 0.422, 0.422, 0.422, 0.36, 0.36, 0.36, 0.36, 0.36, 0.36, 0.21, 0.21, 0.21, 0.21, 0.21, 0.21, 0.21, 0.21, 0.21, 0.21, 0.21, 0.21, 0.21, 0.21, 0.21, 0.21, 0.21, 0.21, 0.21, 0.21, 0.21, 0.21, 0.21, 0.21, 0.21, 0.21, 0.21, 0.21, 0.21, 0.21, 0.21, 0.21, 0.21, 0.21, 0.21, 0.21, 0.21, 0.21, 0.21, 0.21, 0.21, 0.21, 0.21, 0.21, 0.21, 0.21, 0.21, 0.21, 0.21, 0.21, 0.21, 0.21, 0.21, 0.21], 'beta': [0.011, 0.011, 0.011, 0.011, 0.0057, 0.0057, 0.0057, 0.0057, 0.0057, 0.0057, 0.0057, 0.0057, 0.0057, 0.0057, 0.0057, 0.0057, 0.0057, 0.0057, 0.0057, 0.0057, 0.0057, 0.0057, 0.005, 0.005, 0.005, 0.005, 0.005, 0.005, 0.005, 0.005, 0.005, 0.005, 0.005, 0.005, 0.005, 0.005, 0.005, 0.005, 0.005, 0.005, 0.005, 0.005, 0.005, 0.005, 0.005, 0.005, 0.005, 0.005, 0.005, 0.005, 0.005, 0.005, 0.005, 0.005, 0.005, 0.005, 0.005, 0.005, 0.005, 0.005, 0.005, 0.005, 0.005, 0.005, 0.005, 0.005, 0.005, 0.005, 0.005, 0.005, 0.005, 0.005, 0.005, 0.005, 0.005, 0.005, 0.005, 0.005, 0.005, 0.005, 0.005, 0.005], 'gamma': [0.456, 0.456, 0.456, 0.456, 0.285, 0.285, 0.285, 0.285, 0.285, 0.285, 0.285, 0.285, 0.285, 0.285, 0.285, 0.285, 0.285, 0.285, 0.285, 0.285, 0.285, 0.285, 0.2, 0.2, 0.2, 0.2, 0.2, 0.2, 0.11, 0.11, 0.11, 0.11, 0.11, 0.11, 0.11, 0.11, 0.11, 0.11, 0.11, 0.11, 0.11, 0.11, 0.11, 0.11, 0.11, 0.11, 0.11, 0.11, 0.11, 0.11, 0.11, 0.11, 0.11, 0.11, 0.11, 0.11, 0.11, 0.11, 0.11, 0.11, 0.11, 0.11, 0.11, 0.11, 0.11, 0.11, 0.11, 0.11, 0.11, 0.11, 0.11, 0.11, 0.11, 0.11, 0.11, 0.11, 0.11, 0.11, 0.11, 0.11, 0.11, 0.11], 'delta': [0.011, 0.011, 0.011, 0.011, 0.0057, 0.0057, 0.0057, 0.0057, 0.0057, 0.0057, 0.0057, 0.0057, 0.0057, 0.0057, 0.0057, 0.0057, 0.0057, 0.0057, 0.0057, 0.0057, 0.0057, 0.0057, 0.005, 0.005, 0.005, 0.005, 0.005, 0.005, 0.005, 0.005, 0.005, 0.005, 0.005, 0.005, 0.005, 0.005, 0.005, 0.005, 0.005, 0.005, 0.005, 0.005, 0.005, 0.005, 0.005, 0.005, 0.005, 0.005, 0.005, 0.005, 0.005, 0.005, 0.005, 0.005, 0.005, 0.005, 0.005, 0.005, 0.005, 0.005, 0.005, 0.005, 0.005, 0.005, 0.005, 0.005, 0.005, 0.005, 0.005, 0.005, 0.005, 0.005, 0.005, 0.005, 0.005, 0.005, 0.005, 0.005, 0.005, 0.005, 0.005, 0.005], 'epsilon': [0.171, 0.171, 0.171, 0.171, 0.171, 0.171, 0.171, 0.171, 0.171, 0.171, 0.171, 0.171, 0.143, 0.143, 0.143, 0.143, 0.143, 0.143, 0.143, 0.143, 0.143, 0.143, 0.143, 0.143, 0.143, 0.143, 0.143, 0.143, 0.143, 0.143, 0.143, 0.143, 0.143, 0.143, 0.143, 0.143, 0.143, 0.143, 0.2, 0.2, 0.2, 0.2, 0.2, 0.2, 0.2, 0.2, 0.2, 0.2, 0.2, 0.2, 0.2, 0.2, 0.2, 0.2, 0.2, 0.2, 0.2, 0.2, 0.2, 0.2, 0.2, 0.2, 0.2, 0.2, 0.2, 0.2, 0.2, 0.2, 0.2, 0.2, 0.2, 0.2, 0.2, 0.2, 0.2, 0.2, 0.2, 0.2, 0.2, 0.2, 0.2, 0.2], 'theta': [0.371], 'zeta': [0.125, 0.125, 0.125, 0.125, 0.125, 0.125, 0.125, 0.125, 0.125, 0.125, 0.125, 0.125, 0.125, 0.125, 0.125, 0.125, 0.125, 0.125, 0.125, 0.125, 0.125, 0.125, 0.034, 0.034, 0.034, 0.034, 0.034, 0.034, 0.034, 0.034, 0.034, 0.034, 0.034, 0.034, 0.034, 0.034, 0.034, 0.034, 0.025, 0.025, 0.025, 0.025, 0.025, 0.025, 0.025, 0.025, 0.025, 0.025, 0.025, 0.025, 0.025, 0.025, 0.025, 0.025, 0.025, 0.025, 0.025, 0.025, 0.025, 0.025, 0.025, 0.025, 0.025, 0.025, 0.025, 0.025, 0.025, 0.025, 0.025, 0.025, 0.025, 0.025, 0.025, 0.025, 0.025, 0.025, 0.025, 0.025, 0.025, 0.025, 0.025, 0.025], 'eta': [0.125, 0.125, 0.125, 0.125, 0.125, 0.125, 0.125, 0.125, 0.125, 0.125, 0.125, 0.125, 0.125, 0.125, 0.125, 0.125, 0.125, 0.125, 0.125, 0.125, 0.125, 0.125, 0.034, 0.034, 0.034, 0.034, 0.034, 0.034, 0.034, 0.034, 0.034, 0.034, 0.034, 0.034, 0.034, 0.034, 0.034, 0.034, 0.025, 0.025, 0.025, 0.025, 0.025, 0.025, 0.025, 0.025, 0.025, 0.025, 0.025, 0.025, 0.025, 0.025, 0.025, 0.025, 0.025, 0.025, 0.025, 0.025, 0.025, 0.025, 0.025, 0.025, 0.025, 0.025, 0.025, 0.025, 0.025, 0.025, 0.025, 0.025, 0.025, 0.025, 0.025, 0.025, 0.025, 0.025, 0.025, 0.025, 0.025, 0.025, 0.025, 0.025], 'mu': [0.017, 0.017, 0.017, 0.017, 0.017, 0.017, 0.017, 0.017, 0.017, 0.017, 0.017, 0.017, 0.017, 0.017, 0.017, 0.017, 0.017, 0.017, 0.017, 0.017, 0.017, 0.017, 0.008, 0.008, 0.008, 0.008, 0.008, 0.008, 0.008, 0.008, 0.008, 0.008, 0.008, 0.008, 0.008, 0.008, 0.008, 0.008, 0.008, 0.008, 0.008, 0.008, 0.008, 0.008, 0.008, 0.008, 0.008, 0.008, 0.008, 0.008, 0.008, 0.008, 0.008, 0.008, 0.008, 0.008, 0.008, 0.008, 0.008, 0.008, 0.008, 0.008, 0.008, 0.008, 0.008, 0.008, 0.008, 0.008, 0.008, 0.008, 0.008, 0.008, 0.008, 0.008, 0.008, 0.008, 0.008, 0.008, 0.008, 0.008, 0.008, 0.008], 'nu': [0.027, 0.027, 0.027, 0.027, 0.027, 0.027, 0.027, 0.027, 0.027, 0.027, 0.027, 0.027, 0.027, 0.027, 0.027, 0.027, 0.027, 0.027, 0.027, 0.027, 0.027, 0.027, 0.015, 0.015, 0.015, 0.015, 0.015, 0.015, 0.015, 0.015, 0.015, 0.015, 0.015, 0.015, 0.015, 0.015, 0.015, 0.015, 0.015, 0.015, 0.015, 0.015, 0.015, 0.015, 0.015, 0.015, 0.015, 0.015, 0.015, 0.015, 0.015, 0.015, 0.015, 0.015, 0.015, 0.015, 0.015, 0.015, 0.015, 0.015, 0.015, 0.015, 0.015, 0.015, 0.015, 0.015, 0.015, 0.015, 0.015, 0.015, 0.015, 0.015, 0.015, 0.015, 0.015, 0.015, 0.015, 0.015, 0.015, 0.015, 0.015, 0.015], 'tau': [0.01], 'lambda': [0.034, 0.034, 0.034, 0.034, 0.034, 0.034, 0.034, 0.034, 0.034, 0.034, 0.034, 0.034, 0.034, 0.034, 0.034, 0.034, 0.034, 0.034, 0.034, 0.034, 0.034, 0.034, 0.08, 0.08, 0.08, 0.08, 0.08, 0.08, 0.08, 0.08, 0.08, 0.08, 0.08, 0.08, 0.08, 0.08, 0.08, 0.08, 0.08, 0.08, 0.08, 0.08, 0.08, 0.08, 0.08, 0.08, 0.08, 0.08, 0.08, 0.08, 0.08, 0.08, 0.08, 0.08, 0.08, 0.08, 0.08, 0.08, 0.08, 0.08, 0.08, 0.08, 0.08, 0.08, 0.08, 0.08, 0.08, 0.08, 0.08, 0.08, 0.08, 0.08, 0.08, 0.08, 0.08, 0.08, 0.08, 0.08, 0.08, 0.08, 0.08, 0.08], 'kappa': [0.017, 0.017, 0.017, 0.017, 0.017, 0.017, 0.017, 0.017, 0.017, 0.017, 0.017, 0.017, 0.017, 0.017, 0.017, 0.017, 0.017, 0.017, 0.017, 0.017, 0.017, 0.017, 0.017, 0.017, 0.017, 0.017, 0.017, 0.017, 0.017, 0.017, 0.017, 0.017, 0.017, 0.017, 0.017, 0.017, 0.017, 0.017, 0.02, 0.02, 0.02, 0.02, 0.02, 0.02, 0.02, 0.02, 0.02, 0.02, 0.02, 0.02, 0.02, 0.02, 0.02, 0.02, 0.02, 0.02, 0.02, 0.02, 0.02, 0.02, 0.02, 0.02, 0.02, 0.02, 0.02, 0.02, 0.02, 0.02, 0.02, 0.02, 0.02, 0.02, 0.02, 0.02, 0.02, 0.02, 0.02, 0.02, 0.02, 0.02, 0.02, 0.02], 'xi': [0.017, 0.017, 0.017, 0.017, 0.017, 0.017, 0.017, 0.017, 0.017, 0.017, 0.017, 0.017, 0.017, 0.017, 0.017, 0.017, 0.017, 0.017, 0.017, 0.017, 0.017, 0.017, 0.017, 0.017, 0.017, 0.017, 0.017, 0.017, 0.017, 0.017, 0.017, 0.017, 0.017, 0.017, 0.017, 0.017, 0.017, 0.017, 0.02, 0.02, 0.02, 0.02, 0.02, 0.02, 0.02, 0.02, 0.02, 0.02, 0.02, 0.02, 0.02, 0.02, 0.02, 0.02, 0.02, 0.02, 0.02, 0.02, 0.02, 0.02, 0.02, 0.02, 0.02, 0.02, 0.02, 0.02, 0.02, 0.02, 0.02, 0.02, 0.02, 0.02, 0.02, 0.02, 0.02, 0.02, 0.02, 0.02, 0.02, 0.02, 0.02, 0.02], 'rho': [0.034, 0.034, 0.034, 0.034, 0.034, 0.034, 0.034, 0.034, 0.034, 0.034, 0.034, 0.034, 0.034, 0.034, 0.034, 0.034, 0.034, 0.034, 0.034, 0.034, 0.034, 0.034, 0.017, 0.017, 0.017, 0.017, 0.017, 0.017, 0.017, 0.017, 0.017, 0.017, 0.017, 0.017, 0.017, 0.017, 0.017, 0.017, 0.02, 0.02, 0.02, 0.02, 0.02, 0.02, 0.02, 0.02, 0.02, 0.02, 0.02, 0.02, 0.02, 0.02, 0.02, 0.02, 0.02, 0.02, 0.02, 0.02, 0.02, 0.02, 0.02, 0.02, 0.02, 0.02, 0.02, 0.02, 0.02, 0.02, 0.02, 0.02, 0.02, 0.02, 0.02, 0.02, 0.02, 0.02, 0.02, 0.02, 0.02, 0.02, 0.02, 0.02], 'sigma': [0.017, 0.017, 0.017, 0.017, 0.017, 0.017, 0.017, 0.017, 0.017, 0.017, 0.017, 0.017, 0.017, 0.017, 0.017, 0.017, 0.017, 0.017, 0.017, 0.017, 0.017, 0.017, 0.017, 0.017, 0.017, 0.017, 0.017, 0.017, 0.017, 0.017, 0.017, 0.017, 0.017, 0.017, 0.017, 0.017, 0.017, 0.017, 0.01, 0.01, 0.01, 0.01, 0.01, 0.01, 0.01, 0.01, 0.01, 0.01, 0.01, 0.01, 0.01, 0.01, 0.01, 0.01, 0.01, 0.01, 0.01, 0.01, 0.01, 0.01, 0.01, 0.01, 0.01, 0.01, 0.01, 0.01, 0.01, 0.01, 0.01, 0.01, 0.01, 0.01, 0.01, 0.01, 0.01, 0.01, 0.01, 0.01, 0.01, 0.01, 0.01, 0.01]}}\n"
    }
   ],
   "source": [
    "print(\"Settings used: \")\n",
    "with open(os.path.join(results_path, best_exp, \"settings.json\")) as settings_file:\n",
    "    exp_dict = json.load(settings_file)\n",
    "\n",
    "print(exp_dict)"
   ]
  },
  {
   "cell_type": "code",
   "execution_count": 15,
   "metadata": {},
   "outputs": [],
   "source": [
    "import torch\n",
    "# get references\n",
    "references = {}\n",
    "param_keys = ['alpha', 'beta', 'gamma', 'delta', 'epsilon', 'theta', 'xi', 'eta', 'mu', 'nu', 'tau', 'lambda', 'kappa', 'zeta', 'rho', 'sigma']\n",
    "ref_df = pd.read_csv(os.path.join(os.getcwd(), \"regioni\", \"sidarthe_results_new.csv\"))\n",
    "for key in 'sidarthe':\n",
    "    references[key] = ref_df[key].tolist()\n",
    "\n",
    "for key in [\"r0\", \"h_detected\"]:\n",
    "    references[key] = ref_df[key].tolist()\n",
    "\n",
    "for key in param_keys:\n",
    "    references[key] = ref_df[key].tolist()\n",
    "\n",
    "for k,v in references.items():\n",
    "    references[k] = torch.tensor(v)"
   ]
  },
  {
   "cell_type": "code",
   "execution_count": 16,
   "metadata": {
    "tags": []
   },
   "outputs": [],
   "source": [
    "#extract targets\n",
    "\n",
    "from utils.data_utils import select_data\n",
    "\n",
    "df_file = os.path.join(os.getcwd(), \"COVID-19\", \"dati-andamento-nazionale\", \"dpc-covid19-ita-andamento-nazionale.csv\")\n",
    "area = [\"ITA\"]\n",
    "area_col_name = \"stato\"  # \"Country/Region\"\n",
    "\n",
    "groupby_cols = [\"data\"]  # [\"Date\"]\n",
    "\n",
    "d_col_name = \"isolamento_domiciliare\"\n",
    "r_col_name = \"ricoverati_con_sintomi\"\n",
    "t_col_name = \"terapia_intensiva\"\n",
    "h_detected_col_name = \"dimessi_guariti\"\n",
    "e_col_name = \"deceduti\"  # \"Fatalities\"\n",
    "\n",
    "x_target, d_target, _ = select_data(df_file, area, area_col_name, d_col_name, groupby_cols, file_sep=\",\")\n",
    "_, y_target, _  = select_data(df_file, area, area_col_name, \"totale_positivi\", groupby_cols, file_sep=\",\")\n",
    "_, r_target, _ = select_data(df_file, area, area_col_name, r_col_name, groupby_cols, file_sep=\",\")\n",
    "_, t_target, _ = select_data(df_file, area, area_col_name, t_col_name, groupby_cols, file_sep=\",\")\n",
    "_, h_detected_target, _ = select_data(df_file, area, area_col_name, h_detected_col_name, groupby_cols, file_sep=\",\")\n",
    "_, e_target, _ = select_data(df_file, area, area_col_name, e_col_name, groupby_cols, file_sep=\",\")\n",
    "\n",
    "initial_len = len(y_target)\n",
    "tmp_d, tmp_r, tmp_t, tmp_h, tmp_e = [], [], [], [], []\n",
    "for i in range(initial_len):\n",
    "    if y_target[i] > 0:\n",
    "        tmp_d.append(d_target[i])\n",
    "        tmp_r.append(r_target[i])\n",
    "        tmp_t.append(t_target[i])\n",
    "        tmp_h.append(h_detected_target[i])\n",
    "        tmp_e.append(e_target[i])\n",
    "d_target = tmp_d\n",
    "r_target = tmp_r\n",
    "t_target = tmp_t\n",
    "h_detected_target = tmp_h\n",
    "e_target = tmp_e\n",
    "\n",
    "targets = {\n",
    "    \"d\": d_target,\n",
    "    \"r\": r_target,\n",
    "    \"t\": t_target,\n",
    "    \"h_detected\": h_detected_target,\n",
    "    \"e\": e_target\n",
    "}\n",
    "\n",
    "for k,v in targets.items():\n",
    "    targets[k] = torch.tensor(v, dtype=torch.float32)"
   ]
  },
  {
   "cell_type": "code",
   "execution_count": 17,
   "metadata": {
    "tags": []
   },
   "outputs": [
    {
     "output_type": "stream",
     "name": "stdout",
     "text": "{'d': tensor(30927.9902), 'r': tensor(9985.4971), 't': tensor(1224.0846), 'h_detected': tensor(93190.0781), 'e': tensor(19554.8633)}\nTheir total loss: 154882.515625\nOur total loss: 25848.940957439794\n"
    }
   ],
   "source": [
    "def rmse_loss(target, hat):\n",
    "    return torch.sqrt(\n",
    "        0.5 * torch.mean(\n",
    "            torch.pow(target - hat, 2)\n",
    "        )\n",
    "    )\n",
    "\n",
    "losses = {}\n",
    "tot_loss = 0.\n",
    "for k,v in targets.items():\n",
    "    loss = rmse_loss(targets[k], references[k][0:targets[k].size(0)])\n",
    "    losses[k] = loss\n",
    "    tot_loss += loss\n",
    "\n",
    "our_losses = {}\n",
    "for loss in \"dehrt\":   \n",
    "        item = exps[best_exp][\"test_risks\"][f\"{loss}_rmse\"]\n",
    "        our_losses[loss] = item[0] if isinstance(item, list) else item\n",
    "\n",
    "print(losses)\n",
    "\n",
    "print(f\"Their total loss: {tot_loss}\")\n",
    "print(f\"Our total loss: {selector(best_exp)}\")"
   ]
  }
 ],
 "metadata": {
  "language_info": {
   "codemirror_mode": {
    "name": "ipython",
    "version": 3
   },
   "file_extension": ".py",
   "mimetype": "text/x-python",
   "name": "python",
   "nbconvert_exporter": "python",
   "pygments_lexer": "ipython3",
   "version": "3.7.6-final"
  },
  "orig_nbformat": 2,
  "kernelspec": {
   "name": "python37664bitcovidtoolscondaed93c0ad89524ea5ad4f4946bde80980",
   "display_name": "Python 3.7.6 64-bit ('covid-tools': conda)"
  }
 },
 "nbformat": 4,
 "nbformat_minor": 2
}