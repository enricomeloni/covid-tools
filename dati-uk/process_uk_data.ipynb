{
 "cells": [
  {
   "cell_type": "code",
   "execution_count": 61,
   "metadata": {},
   "outputs": [],
   "source": [
    "import pandas as pd \n",
    "from functools import reduce"
   ]
  },
  {
   "cell_type": "code",
   "execution_count": 62,
   "metadata": {},
   "outputs": [],
   "source": [
    "admitted_df = pd.read_csv(\"./admitted_hospital.csv\").dropna().drop([\"areaName\", \"areaType\"], axis=1)\n",
    "deaths_df = pd.read_csv(\"./deaths.csv\").dropna().drop([\"areaName\", \"areaType\"], axis=1)\n",
    "total_hospital_df = pd.read_csv(\"./total_in_hospital.csv\").dropna().drop([\"areaName\", \"areaType\"], axis=1)\n",
    "total_icu_df = pd.read_csv(\"./total_in_icu.csv\").dropna().drop([\"areaName\", \"areaType\"], axis=1)\n",
    "total_positives_df = pd.read_csv(\"./total_positives.csv\").dropna().drop([\"areaName\", \"areaType\"], axis=1)"
   ]
  },
  {
   "cell_type": "code",
   "execution_count": 69,
   "metadata": {},
   "outputs": [
    {
     "output_type": "execute_result",
     "data": {
      "text/plain": "          date  newAdmissions  cumAdmissions  newDeathsByPublishDate  \\\n0   2020-06-22          394.0       128945.0                      15   \n1   2020-06-21          423.0       128515.0                      43   \n2   2020-06-20          320.0       128195.0                     130   \n3   2020-06-19          287.0       127915.0                     173   \n4   2020-06-18          384.0       127568.0                     137   \n..         ...            ...            ...                     ...   \n77  2020-04-06         3240.0        44010.0                     568   \n78  2020-04-05         3147.0        40835.0                     644   \n79  2020-04-04         2963.0        37774.0                     760   \n80  2020-04-03         2979.0        34810.0                     714   \n81  2020-04-02         3016.0        31860.0                     652   \n\n    cumDeathsByPublishDate  hospitalCases  covidOccupiedMVBeds  \\\n0                    42756         4384.0                340.0   \n1                    42741         4376.0                310.0   \n2                    42698         4397.0                315.0   \n3                    42568         4599.0                330.0   \n4                    42395         4726.0                352.0   \n..                     ...            ...                  ...   \n77                    6434        18593.0               2644.0   \n78                    5866        18127.0               2469.0   \n79                    5222        16925.0               2309.0   \n80                    4462        15091.0               2120.0   \n81                    3748        13605.0               1813.0   \n\n    newCasesByPublishDate  cumCasesByPublishDate  \n0                   958.0               305289.0  \n1                  1221.0               304331.0  \n2                  1295.0               303110.0  \n3                  1346.0               301815.0  \n4                  1218.0               300469.0  \n..                    ...                    ...  \n77                 4143.0                53624.0  \n78                 6199.0                49481.0  \n79                 4000.0                43282.0  \n80                 4672.0                39282.0  \n81                 4522.0                34610.0  \n\n[82 rows x 9 columns]",
      "text/html": "<div>\n<style scoped>\n    .dataframe tbody tr th:only-of-type {\n        vertical-align: middle;\n    }\n\n    .dataframe tbody tr th {\n        vertical-align: top;\n    }\n\n    .dataframe thead th {\n        text-align: right;\n    }\n</style>\n<table border=\"1\" class=\"dataframe\">\n  <thead>\n    <tr style=\"text-align: right;\">\n      <th></th>\n      <th>date</th>\n      <th>newAdmissions</th>\n      <th>cumAdmissions</th>\n      <th>newDeathsByPublishDate</th>\n      <th>cumDeathsByPublishDate</th>\n      <th>hospitalCases</th>\n      <th>covidOccupiedMVBeds</th>\n      <th>newCasesByPublishDate</th>\n      <th>cumCasesByPublishDate</th>\n    </tr>\n  </thead>\n  <tbody>\n    <tr>\n      <th>0</th>\n      <td>2020-06-22</td>\n      <td>394.0</td>\n      <td>128945.0</td>\n      <td>15</td>\n      <td>42756</td>\n      <td>4384.0</td>\n      <td>340.0</td>\n      <td>958.0</td>\n      <td>305289.0</td>\n    </tr>\n    <tr>\n      <th>1</th>\n      <td>2020-06-21</td>\n      <td>423.0</td>\n      <td>128515.0</td>\n      <td>43</td>\n      <td>42741</td>\n      <td>4376.0</td>\n      <td>310.0</td>\n      <td>1221.0</td>\n      <td>304331.0</td>\n    </tr>\n    <tr>\n      <th>2</th>\n      <td>2020-06-20</td>\n      <td>320.0</td>\n      <td>128195.0</td>\n      <td>130</td>\n      <td>42698</td>\n      <td>4397.0</td>\n      <td>315.0</td>\n      <td>1295.0</td>\n      <td>303110.0</td>\n    </tr>\n    <tr>\n      <th>3</th>\n      <td>2020-06-19</td>\n      <td>287.0</td>\n      <td>127915.0</td>\n      <td>173</td>\n      <td>42568</td>\n      <td>4599.0</td>\n      <td>330.0</td>\n      <td>1346.0</td>\n      <td>301815.0</td>\n    </tr>\n    <tr>\n      <th>4</th>\n      <td>2020-06-18</td>\n      <td>384.0</td>\n      <td>127568.0</td>\n      <td>137</td>\n      <td>42395</td>\n      <td>4726.0</td>\n      <td>352.0</td>\n      <td>1218.0</td>\n      <td>300469.0</td>\n    </tr>\n    <tr>\n      <th>...</th>\n      <td>...</td>\n      <td>...</td>\n      <td>...</td>\n      <td>...</td>\n      <td>...</td>\n      <td>...</td>\n      <td>...</td>\n      <td>...</td>\n      <td>...</td>\n    </tr>\n    <tr>\n      <th>77</th>\n      <td>2020-04-06</td>\n      <td>3240.0</td>\n      <td>44010.0</td>\n      <td>568</td>\n      <td>6434</td>\n      <td>18593.0</td>\n      <td>2644.0</td>\n      <td>4143.0</td>\n      <td>53624.0</td>\n    </tr>\n    <tr>\n      <th>78</th>\n      <td>2020-04-05</td>\n      <td>3147.0</td>\n      <td>40835.0</td>\n      <td>644</td>\n      <td>5866</td>\n      <td>18127.0</td>\n      <td>2469.0</td>\n      <td>6199.0</td>\n      <td>49481.0</td>\n    </tr>\n    <tr>\n      <th>79</th>\n      <td>2020-04-04</td>\n      <td>2963.0</td>\n      <td>37774.0</td>\n      <td>760</td>\n      <td>5222</td>\n      <td>16925.0</td>\n      <td>2309.0</td>\n      <td>4000.0</td>\n      <td>43282.0</td>\n    </tr>\n    <tr>\n      <th>80</th>\n      <td>2020-04-03</td>\n      <td>2979.0</td>\n      <td>34810.0</td>\n      <td>714</td>\n      <td>4462</td>\n      <td>15091.0</td>\n      <td>2120.0</td>\n      <td>4672.0</td>\n      <td>39282.0</td>\n    </tr>\n    <tr>\n      <th>81</th>\n      <td>2020-04-02</td>\n      <td>3016.0</td>\n      <td>31860.0</td>\n      <td>652</td>\n      <td>3748</td>\n      <td>13605.0</td>\n      <td>1813.0</td>\n      <td>4522.0</td>\n      <td>34610.0</td>\n    </tr>\n  </tbody>\n</table>\n<p>82 rows × 9 columns</p>\n</div>"
     },
     "metadata": {},
     "execution_count": 69
    }
   ],
   "source": [
    "# merge all csvs\n",
    "df = reduce(lambda df1, df2: pd.merge(df1, df2, on=\"date\"), [admitted_df, deaths_df, total_hospital_df, total_icu_df, total_positives_df])\n"
   ]
  },
  {
   "cell_type": "code",
   "execution_count": 73,
   "metadata": {},
   "outputs": [],
   "source": [
    "# generate new df\n",
    "\n",
    "n_df = pd.DataFrame()\n",
    "n_df[\"data\"] = df[\"date\"]\n",
    "n_df[\"totale_ospedalizzati\"] = df[\"hospitalCases\"]\n",
    "n_df[\"terapia_intensiva\"] = df[\"covidOccupiedMVBeds\"]\n",
    "n_df[\"totale_casi\"] = df[\"cumCasesByPublishDate\"]\n",
    "n_df[\"ricoverati_con_sintomi\"] = df[\"hospitalCases\"] - df[\"covidOccupiedMVBeds\"]\n",
    "n_df[\"isolamento_domiciliare\"] = df[\"cumCasesByPublishDate\"] - df[\"hospitalCases\"]\n",
    "n_df[\"deceduti\"] = df[\"cumDeathsByPublishDate\"]\n",
    "n_df[\"dimessi_guariti\"] = "
   ]
  }
 ],
 "metadata": {
  "language_info": {
   "codemirror_mode": {
    "name": "ipython",
    "version": 3
   },
   "file_extension": ".py",
   "mimetype": "text/x-python",
   "name": "python",
   "nbconvert_exporter": "python",
   "pygments_lexer": "ipython3",
   "version": "3.7.6-final"
  },
  "orig_nbformat": 2,
  "kernelspec": {
   "name": "python37664bitcovidtoolscondaed93c0ad89524ea5ad4f4946bde80980",
   "display_name": "Python 3.7.6 64-bit ('covid-tools': conda)"
  }
 },
 "nbformat": 4,
 "nbformat_minor": 2
}