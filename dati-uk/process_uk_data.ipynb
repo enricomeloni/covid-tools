{
 "cells": [
  {
   "cell_type": "code",
   "execution_count": 1,
   "metadata": {},
   "outputs": [],
   "source": [
    "import pandas as pd \n",
    "from functools import reduce"
   ]
  },
  {
   "cell_type": "code",
   "execution_count": 2,
   "metadata": {},
   "outputs": [],
   "source": [
    "admitted_df = pd.read_csv(\"./admitted_hospital.csv\").drop([\"areaName\", \"areaType\"], axis=1)\n",
    "deaths_df = pd.read_csv(\"./deaths.csv\").drop([\"areaName\", \"areaType\"], axis=1)\n",
    "total_hospital_df = pd.read_csv(\"./total_in_hospital.csv\").drop([\"areaName\", \"areaType\"], axis=1)\n",
    "total_icu_df = pd.read_csv(\"./total_in_icu.csv\").drop([\"areaName\", \"areaType\"], axis=1)\n",
    "total_positives_df = pd.read_csv(\"./total_positives.csv\").drop([\"areaName\", \"areaType\"], axis=1)"
   ]
  },
  {
   "cell_type": "code",
   "execution_count": 3,
   "metadata": {},
   "outputs": [],
   "source": [
    "# merge all csvs\n",
    "df = reduce(lambda df1, df2: pd.merge(df1, df2, on=\"date\"), [admitted_df, deaths_df, total_hospital_df, total_icu_df, total_positives_df])\n"
   ]
  },
  {
   "cell_type": "code",
   "execution_count": 4,
   "metadata": {},
   "outputs": [
    {
     "output_type": "execute_result",
     "data": {
      "text/plain": "           data  totale_ospedalizzati  terapia_intensiva  totale_casi  \\\n0    2020-03-06                  -1.0               -1.0         -1.0   \n1    2020-03-07                  -1.0               -1.0         -1.0   \n2    2020-03-08                  -1.0               -1.0         -1.0   \n3    2020-03-09                  -1.0               -1.0         -1.0   \n4    2020-03-10                  -1.0               -1.0        373.0   \n..          ...                   ...                ...          ...   \n114  2020-06-28                3700.0              270.0     311151.0   \n115  2020-06-29                3862.0              262.0     311965.0   \n116  2020-06-30                3539.0              279.0     312654.0   \n117  2020-07-01                  -1.0              259.0     313483.0   \n118  2020-07-02                  -1.0               -1.0     283757.0   \n\n     ricoverati_con_sintomi  isolamento_domiciliare  deceduti  \\\n0                      -1.0                    -1.0         1   \n1                      -1.0                    -1.0         2   \n2                      -1.0                    -1.0         2   \n3                      -1.0                    -1.0         3   \n4                      -1.0                    -1.0         7   \n..                      ...                     ...       ...   \n114                  3430.0                307451.0     43550   \n115                  3600.0                308103.0     43575   \n116                  3260.0                309115.0     43730   \n117                    -1.0                    -1.0     43906   \n118                    -1.0                    -1.0     43995   \n\n     totale_positivi  dimessi_guariti  \n0               -1.0             -1.0  \n1               -1.0             -1.0  \n2               -1.0             -1.0  \n3               -1.0             -1.0  \n4               -1.0             -1.0  \n..               ...              ...  \n114           3970.0         263631.0  \n115           4124.0         264266.0  \n116           3818.0         265106.0  \n117             -1.0             -1.0  \n118             -1.0             -1.0  \n\n[119 rows x 9 columns]",
      "text/html": "<div>\n<style scoped>\n    .dataframe tbody tr th:only-of-type {\n        vertical-align: middle;\n    }\n\n    .dataframe tbody tr th {\n        vertical-align: top;\n    }\n\n    .dataframe thead th {\n        text-align: right;\n    }\n</style>\n<table border=\"1\" class=\"dataframe\">\n  <thead>\n    <tr style=\"text-align: right;\">\n      <th></th>\n      <th>data</th>\n      <th>totale_ospedalizzati</th>\n      <th>terapia_intensiva</th>\n      <th>totale_casi</th>\n      <th>ricoverati_con_sintomi</th>\n      <th>isolamento_domiciliare</th>\n      <th>deceduti</th>\n      <th>totale_positivi</th>\n      <th>dimessi_guariti</th>\n    </tr>\n  </thead>\n  <tbody>\n    <tr>\n      <th>0</th>\n      <td>2020-03-06</td>\n      <td>-1.0</td>\n      <td>-1.0</td>\n      <td>-1.0</td>\n      <td>-1.0</td>\n      <td>-1.0</td>\n      <td>1</td>\n      <td>-1.0</td>\n      <td>-1.0</td>\n    </tr>\n    <tr>\n      <th>1</th>\n      <td>2020-03-07</td>\n      <td>-1.0</td>\n      <td>-1.0</td>\n      <td>-1.0</td>\n      <td>-1.0</td>\n      <td>-1.0</td>\n      <td>2</td>\n      <td>-1.0</td>\n      <td>-1.0</td>\n    </tr>\n    <tr>\n      <th>2</th>\n      <td>2020-03-08</td>\n      <td>-1.0</td>\n      <td>-1.0</td>\n      <td>-1.0</td>\n      <td>-1.0</td>\n      <td>-1.0</td>\n      <td>2</td>\n      <td>-1.0</td>\n      <td>-1.0</td>\n    </tr>\n    <tr>\n      <th>3</th>\n      <td>2020-03-09</td>\n      <td>-1.0</td>\n      <td>-1.0</td>\n      <td>-1.0</td>\n      <td>-1.0</td>\n      <td>-1.0</td>\n      <td>3</td>\n      <td>-1.0</td>\n      <td>-1.0</td>\n    </tr>\n    <tr>\n      <th>4</th>\n      <td>2020-03-10</td>\n      <td>-1.0</td>\n      <td>-1.0</td>\n      <td>373.0</td>\n      <td>-1.0</td>\n      <td>-1.0</td>\n      <td>7</td>\n      <td>-1.0</td>\n      <td>-1.0</td>\n    </tr>\n    <tr>\n      <th>...</th>\n      <td>...</td>\n      <td>...</td>\n      <td>...</td>\n      <td>...</td>\n      <td>...</td>\n      <td>...</td>\n      <td>...</td>\n      <td>...</td>\n      <td>...</td>\n    </tr>\n    <tr>\n      <th>114</th>\n      <td>2020-06-28</td>\n      <td>3700.0</td>\n      <td>270.0</td>\n      <td>311151.0</td>\n      <td>3430.0</td>\n      <td>307451.0</td>\n      <td>43550</td>\n      <td>3970.0</td>\n      <td>263631.0</td>\n    </tr>\n    <tr>\n      <th>115</th>\n      <td>2020-06-29</td>\n      <td>3862.0</td>\n      <td>262.0</td>\n      <td>311965.0</td>\n      <td>3600.0</td>\n      <td>308103.0</td>\n      <td>43575</td>\n      <td>4124.0</td>\n      <td>264266.0</td>\n    </tr>\n    <tr>\n      <th>116</th>\n      <td>2020-06-30</td>\n      <td>3539.0</td>\n      <td>279.0</td>\n      <td>312654.0</td>\n      <td>3260.0</td>\n      <td>309115.0</td>\n      <td>43730</td>\n      <td>3818.0</td>\n      <td>265106.0</td>\n    </tr>\n    <tr>\n      <th>117</th>\n      <td>2020-07-01</td>\n      <td>-1.0</td>\n      <td>259.0</td>\n      <td>313483.0</td>\n      <td>-1.0</td>\n      <td>-1.0</td>\n      <td>43906</td>\n      <td>-1.0</td>\n      <td>-1.0</td>\n    </tr>\n    <tr>\n      <th>118</th>\n      <td>2020-07-02</td>\n      <td>-1.0</td>\n      <td>-1.0</td>\n      <td>283757.0</td>\n      <td>-1.0</td>\n      <td>-1.0</td>\n      <td>43995</td>\n      <td>-1.0</td>\n      <td>-1.0</td>\n    </tr>\n  </tbody>\n</table>\n<p>119 rows × 9 columns</p>\n</div>"
     },
     "metadata": {},
     "execution_count": 4
    }
   ],
   "source": [
    "# generate new df\n",
    "\n",
    "n_df = pd.DataFrame()\n",
    "n_df[\"data\"] = df[\"date\"]\n",
    "n_df[\"stato\"] = \"UK\"\n",
    "n_df[\"totale_ospedalizzati\"] = df[\"hospitalCases\"]\n",
    "n_df[\"terapia_intensiva\"] = df[\"covidOccupiedMVBeds\"]\n",
    "n_df[\"totale_casi\"] = df[\"cumCasesByPublishDate\"]\n",
    "n_df[\"ricoverati_con_sintomi\"] = df[\"hospitalCases\"] - df[\"covidOccupiedMVBeds\"]\n",
    "n_df[\"isolamento_domiciliare\"] = df[\"cumCasesByPublishDate\"] - df[\"hospitalCases\"]\n",
    "n_df[\"deceduti\"] = df[\"cumDeathsByPublishDate\"]\n",
    "n_df[\"totale_positivi\"] = n_df[\"totale_ospedalizzati\"] + n_df[\"terapia_intensiva\"]\n",
    "n_df[\"dimessi_guariti\"] = n_df[\"totale_casi\"] - n_df[\"totale_positivi\"] - n_df[\"deceduti\"]\n",
    "\n",
    "n_df = n_df.sort_values(by=\"data\").reset_index(drop=True)\n",
    "n_df = n_df.fillna(-1)\n",
    "n_df"
   ]
  },
  {
   "cell_type": "code",
   "execution_count": 5,
   "metadata": {},
   "outputs": [],
   "source": [
    "n_df.to_csv('uk_data_filled.csv')"
   ]
  }
 ],
 "metadata": {
  "language_info": {
   "codemirror_mode": {
    "name": "ipython",
    "version": 3
   },
   "file_extension": ".py",
   "mimetype": "text/x-python",
   "name": "python",
   "nbconvert_exporter": "python",
   "pygments_lexer": "ipython3",
   "version": "3.7.6-final"
  },
  "orig_nbformat": 2,
  "kernelspec": {
   "name": "python37664bitcovidtoolscondaed93c0ad89524ea5ad4f4946bde80980",
   "display_name": "Python 3.7.6 64-bit ('covid-tools': conda)"
  }
 },
 "nbformat": 4,
 "nbformat_minor": 2
}