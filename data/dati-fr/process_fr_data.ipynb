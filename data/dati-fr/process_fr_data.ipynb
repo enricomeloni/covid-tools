{
 "cells": [
  {
   "cell_type": "code",
   "execution_count": 1,
   "metadata": {
    "collapsed": true
   },
   "outputs": [],
   "source": [
    "import os\n",
    "import yaml\n",
    "import json\n",
    "import numpy as np\n",
    "import pandas as pd\n",
    "import seaborn as sns\n",
    "%matplotlib inline"
   ]
  },
  {
   "cell_type": "code",
   "execution_count": 2,
   "metadata": {
    "collapsed": true
   },
   "outputs": [],
   "source": [
    "yaml_path = \"./yaml_data\"\n",
    "yaml_files = [os.path.join(yaml_path,f) for f in os.listdir(yaml_path) if os.path.isfile(os.path.join(yaml_path, f))]"
   ]
  },
  {
   "cell_type": "code",
   "execution_count": 3,
   "metadata": {
    "collapsed": false,
    "tags": []
   },
   "outputs": [
    {
     "name": "stderr",
     "output_type": "stream",
     "text": [
      "C:\\Users\\Andrea\\Anaconda2\\envs\\multipoetgen\\lib\\site-packages\\ipykernel\\__main__.py:7: YAMLLoadWarning: calling yaml.load() without Loader=... is deprecated, as the default Loader is unsafe. Please read https://msg.pyyaml.org/load for full details.\n",
      "C:\\Users\\Andrea\\Anaconda2\\envs\\multipoetgen\\lib\\site-packages\\ipykernel\\__main__.py:8: FutureWarning: pandas.io.json.json_normalize is deprecated, use pandas.json_normalize instead\n"
     ]
    },
    {
     "data": {
      "text/plain": [
       "dtype('<M8[ns]')"
      ]
     },
     "execution_count": 3,
     "metadata": {},
     "output_type": "execute_result"
    }
   ],
   "source": [
    "# create pandas df\n",
    "\n",
    "df = pd.DataFrame()\n",
    "\n",
    "for y_file in yaml_files:\n",
    "    with open(y_file) as f:\n",
    "        y_dict = yaml.load(f)\n",
    "        tmp = pd.io.json.json_normalize(y_dict[\"donneesNationales\"])\n",
    "        tmp[\"date\"] = pd.to_datetime(y_dict[\"date\"])\n",
    "        #print(tmp)\n",
    "        df = pd.concat((df, tmp), axis=\"index\")\n",
    "\n",
    "#print(df[usefulCols])\n",
    "df[\"date\"].dtype"
   ]
  },
  {
   "cell_type": "code",
   "execution_count": 4,
   "metadata": {
    "collapsed": false
   },
   "outputs": [],
   "source": [
    "df.decesEhpad.fillna(0, inplace=True)\n",
    "df.casConfirmesEhpad.fillna(0, inplace=True)"
   ]
  },
  {
   "cell_type": "code",
   "execution_count": 5,
   "metadata": {
    "collapsed": false
   },
   "outputs": [
    {
     "data": {
      "text/plain": [
       "0        0.0\n",
       "0        0.0\n",
       "0        0.0\n",
       "0        0.0\n",
       "0        0.0\n",
       "      ...   \n",
       "0    44471.0\n",
       "0    44471.0\n",
       "0    44471.0\n",
       "0    45090.0\n",
       "0    45090.0\n",
       "Name: casConfirmesEhpad, Length: 238, dtype: float64"
      ]
     },
     "execution_count": 5,
     "metadata": {},
     "output_type": "execute_result"
    }
   ],
   "source": [
    "df.casConfirmesEhpad"
   ]
  },
  {
   "cell_type": "code",
   "execution_count": 6,
   "metadata": {
    "collapsed": true
   },
   "outputs": [],
   "source": [
    "usefulCols = [\"date\", \"casConfirmes\", \"deces\", \"decesEhpad\", \"hospitalises\", \"reanimation\", \"gueris\", \"casConfirmesEhpad\", \"nouvellesHospitalisations\", \"nouvellesReanimations\"]\n",
    "df = df[usefulCols].reset_index()"
   ]
  },
  {
   "cell_type": "code",
   "execution_count": 7,
   "metadata": {
    "collapsed": true
   },
   "outputs": [],
   "source": [
    "df.to_csv(\"fr_data_raw.csv\")"
   ]
  },
  {
   "cell_type": "code",
   "execution_count": 8,
   "metadata": {
    "collapsed": false,
    "tags": []
   },
   "outputs": [
    {
     "data": {
      "image/png": "[encoded data removed]",
      "text/plain": [
       "<Figure size 432x288 with 1 Axes>"
      ]
     },
     "metadata": {},
     "output_type": "display_data"
    }
   ],
   "source": [
    "#g = sns.lineplot(data=df.drop(\"date\", axis=1))\n",
    "plotCols = [\"casConfirmes\", \"deces\", \"hospitalises\", \"reanimation\", \"gueris\"]\n",
    "g = sns.lineplot(data=df[plotCols])"
   ]
  },
  {
   "cell_type": "code",
   "execution_count": 9,
   "metadata": {
    "collapsed": true
   },
   "outputs": [],
   "source": [
    "p_df = pd.DataFrame()\n",
    "\n",
    "p_df[\"data\"] = df[\"date\"]\n",
    "p_df[\"stato\"] = \"FR\"\n",
    "p_df[\"totale_casi\"] = df[\"casConfirmes\"] + df[\"casConfirmesEhpad\"]\n",
    "p_df[\"deceduti\"] = df[\"deces\"] + df[\"decesEhpad\"]\n",
    "p_df[\"totale_positivi\"] = p_df[\"totale_casi\"] - df[\"gueris\"] - p_df[\"deceduti\"]\n",
    "p_df[\"totale_ospedalizzati\"] = df[\"hospitalises\"]\n",
    "p_df[\"terapia_intensiva\"] = df[\"reanimation\"]\n",
    "p_df[\"ricoverati_con_sintomi\"] = df[\"hospitalises\"] - df[\"reanimation\"]\n",
    "p_df[\"isolamento_domiciliare\"] = p_df[\"totale_positivi\"] - p_df[\"totale_ospedalizzati\"]\n",
    "p_df[\"dimessi_guariti\"] = df[\"gueris\"]\n"
   ]
  },
  {
   "cell_type": "code",
   "execution_count": 10,
   "metadata": {
    "collapsed": false
   },
   "outputs": [
    {
     "data": {
      "text/plain": [
       "<matplotlib.axes._subplots.AxesSubplot at 0x1dd8a474438>"
      ]
     },
     "execution_count": 10,
     "metadata": {},
     "output_type": "execute_result"
    },
    {
     "data": {
      "image/png": "[encoded data removed]",
      "text/plain": [
       "<Figure size 432x288 with 1 Axes>"
      ]
     },
     "metadata": {},
     "output_type": "display_data"
    }
   ],
   "source": [
    "cols = [\"totale_casi\", \"totale_positivi\", \"totale_ospedalizzati\", \"ricoverati_con_sintomi\", \"dimessi_guariti\", \"terapia_intensiva\"]\n",
    "# g = sns.lineplot(\"data\", data=p_df[cols])\n",
    "p_df.plot(x=\"data\", y=\"totale_casi\")"
   ]
  },
  {
   "cell_type": "code",
   "execution_count": 11,
   "metadata": {
    "collapsed": false
   },
   "outputs": [],
   "source": [
    "p_df.to_csv(\"./fr_data_processed.csv\")"
   ]
  },
  {
   "cell_type": "code",
   "execution_count": null,
   "metadata": {
    "collapsed": false
   },
   "outputs": [],
   "source": [
    "p_df.iloc[75]"
   ]
  },
  {
   "cell_type": "code",
   "execution_count": null,
   "metadata": {
    "collapsed": true
   },
   "outputs": [],
   "source": []
  }
 ],
 "metadata": {
  "anaconda-cloud": {},
  "kernelspec": {
   "display_name": "Python [conda env:multipoetgen]",
   "language": "python",
   "name": "conda-env-multipoetgen-py"
  },
  "language_info": {
   "codemirror_mode": {
    "name": "ipython",
    "version": 3
   },
   "file_extension": ".py",
   "mimetype": "text/x-python",
   "name": "python",
   "nbconvert_exporter": "python",
   "pygments_lexer": "ipython3",
   "version": "3.6.2"
  }
 },
 "nbformat": 4,
 "nbformat_minor": 2
}
