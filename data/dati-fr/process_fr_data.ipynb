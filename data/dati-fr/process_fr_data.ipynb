{
 "cells": [
  {
   "cell_type": "code",
   "execution_count": 1,
   "metadata": {
    "collapsed": true
   },
   "outputs": [],
   "source": [
    "import os\n",
    "import yaml\n",
    "import json\n",
    "import numpy as np\n",
    "import pandas as pd\n",
    "import seaborn as sns\n",
    "%matplotlib inline"
   ]
  },
  {
   "cell_type": "code",
   "execution_count": 2,
   "metadata": {
    "collapsed": true
   },
   "outputs": [],
   "source": [
    "yaml_path = \"./yaml_data\"\n",
    "yaml_files = [os.path.join(yaml_path,f) for f in os.listdir(yaml_path) if os.path.isfile(os.path.join(yaml_path, f))]"
   ]
  },
  {
   "cell_type": "code",
   "execution_count": 3,
   "metadata": {
    "collapsed": false,
    "tags": []
   },
   "outputs": [
    {
     "name": "stderr",
     "output_type": "stream",
     "text": [
      "C:\\Users\\Andrea\\Anaconda2\\envs\\multipoetgen\\lib\\site-packages\\ipykernel\\__main__.py:9: YAMLLoadWarning: calling yaml.load() without Loader=... is deprecated, as the default Loader is unsafe. Please read https://msg.pyyaml.org/load for full details.\n"
     ]
    }
   ],
   "source": [
    "# create pandas df\n",
    "\n",
    "df = pd.DataFrame()\n",
    "\n",
    "data = []\n",
    "\n",
    "for y_file in yaml_files:\n",
    "    with open(y_file) as f:\n",
    "        y_dict = yaml.load(f)\n",
    "        y_dict[\"donneesNationales\"][\"date\"] = y_dict[\"date\"]\n",
    "        data.append(y_dict[\"donneesNationales\"])\n",
    "\n",
    "\n",
    "df = pd.DataFrame(data=data)\n",
    "df[\"date\"] = pd.to_datetime(df[\"date\"])    \n",
    "df.set_index(\"date\", inplace=True)\n",
    "df = df[\"2020-02-24\":]\n"
   ]
  },
  {
   "cell_type": "code",
   "execution_count": 4,
   "metadata": {
    "collapsed": true
   },
   "outputs": [],
   "source": [
    "usefulCols = [\"casConfirmes\", \"deces\", \"decesEhpad\", \"hospitalises\", \"reanimation\", \"gueris\", \"casConfirmesEhpad\", \"nouvellesHospitalisations\", \"nouvellesReanimations\"]\n",
    "df = df[usefulCols]"
   ]
  },
  {
   "cell_type": "code",
   "execution_count": 5,
   "metadata": {
    "collapsed": true
   },
   "outputs": [],
   "source": [
    "df.to_csv(\"fr_data_raw.csv\")"
   ]
  },
  {
   "cell_type": "code",
   "execution_count": 6,
   "metadata": {
    "collapsed": false
   },
   "outputs": [
    {
     "name": "stderr",
     "output_type": "stream",
     "text": [
      "C:\\Users\\Andrea\\Anaconda2\\envs\\multipoetgen\\lib\\site-packages\\pandas\\core\\generic.py:6245: SettingWithCopyWarning: \n",
      "A value is trying to be set on a copy of a slice from a DataFrame\n",
      "\n",
      "See the caveats in the documentation: https://pandas.pydata.org/pandas-docs/stable/user_guide/indexing.html#returning-a-view-versus-a-copy\n",
      "  self._update_inplace(new_data)\n"
     ]
    },
    {
     "data": {
      "text/html": [
       "<div>\n",
       "<style scoped>\n",
       "    .dataframe tbody tr th:only-of-type {\n",
       "        vertical-align: middle;\n",
       "    }\n",
       "\n",
       "    .dataframe tbody tr th {\n",
       "        vertical-align: top;\n",
       "    }\n",
       "\n",
       "    .dataframe thead th {\n",
       "        text-align: right;\n",
       "    }\n",
       "</style>\n",
       "<table border=\"1\" class=\"dataframe\">\n",
       "  <thead>\n",
       "    <tr style=\"text-align: right;\">\n",
       "      <th></th>\n",
       "      <th>casConfirmes</th>\n",
       "      <th>deces</th>\n",
       "      <th>decesEhpad</th>\n",
       "      <th>hospitalises</th>\n",
       "      <th>reanimation</th>\n",
       "      <th>gueris</th>\n",
       "      <th>casConfirmesEhpad</th>\n",
       "      <th>nouvellesHospitalisations</th>\n",
       "      <th>nouvellesReanimations</th>\n",
       "    </tr>\n",
       "    <tr>\n",
       "      <th>date</th>\n",
       "      <th></th>\n",
       "      <th></th>\n",
       "      <th></th>\n",
       "      <th></th>\n",
       "      <th></th>\n",
       "      <th></th>\n",
       "      <th></th>\n",
       "      <th></th>\n",
       "      <th></th>\n",
       "    </tr>\n",
       "  </thead>\n",
       "  <tbody>\n",
       "    <tr>\n",
       "      <th>2020-02-24</th>\n",
       "      <td>12.0</td>\n",
       "      <td>1.0</td>\n",
       "      <td>0.0</td>\n",
       "      <td>NaN</td>\n",
       "      <td>NaN</td>\n",
       "      <td>11.0</td>\n",
       "      <td>0.0</td>\n",
       "      <td>NaN</td>\n",
       "      <td>NaN</td>\n",
       "    </tr>\n",
       "    <tr>\n",
       "      <th>2020-02-25</th>\n",
       "      <td>14.0</td>\n",
       "      <td>1.0</td>\n",
       "      <td>0.0</td>\n",
       "      <td>2.0</td>\n",
       "      <td>NaN</td>\n",
       "      <td>11.0</td>\n",
       "      <td>0.0</td>\n",
       "      <td>NaN</td>\n",
       "      <td>NaN</td>\n",
       "    </tr>\n",
       "    <tr>\n",
       "      <th>2020-02-26</th>\n",
       "      <td>18.0</td>\n",
       "      <td>2.0</td>\n",
       "      <td>0.0</td>\n",
       "      <td>4.0</td>\n",
       "      <td>NaN</td>\n",
       "      <td>12.0</td>\n",
       "      <td>0.0</td>\n",
       "      <td>NaN</td>\n",
       "      <td>NaN</td>\n",
       "    </tr>\n",
       "    <tr>\n",
       "      <th>2020-02-27</th>\n",
       "      <td>38.0</td>\n",
       "      <td>2.0</td>\n",
       "      <td>0.0</td>\n",
       "      <td>24.0</td>\n",
       "      <td>2.0</td>\n",
       "      <td>12.0</td>\n",
       "      <td>0.0</td>\n",
       "      <td>NaN</td>\n",
       "      <td>NaN</td>\n",
       "    </tr>\n",
       "    <tr>\n",
       "      <th>2020-02-28</th>\n",
       "      <td>57.0</td>\n",
       "      <td>2.0</td>\n",
       "      <td>0.0</td>\n",
       "      <td>NaN</td>\n",
       "      <td>NaN</td>\n",
       "      <td>NaN</td>\n",
       "      <td>0.0</td>\n",
       "      <td>NaN</td>\n",
       "      <td>NaN</td>\n",
       "    </tr>\n",
       "    <tr>\n",
       "      <th>...</th>\n",
       "      <td>...</td>\n",
       "      <td>...</td>\n",
       "      <td>...</td>\n",
       "      <td>...</td>\n",
       "      <td>...</td>\n",
       "      <td>...</td>\n",
       "      <td>...</td>\n",
       "      <td>...</td>\n",
       "      <td>...</td>\n",
       "    </tr>\n",
       "    <tr>\n",
       "      <th>2020-09-26</th>\n",
       "      <td>527446.0</td>\n",
       "      <td>21034.0</td>\n",
       "      <td>10666.0</td>\n",
       "      <td>6172.0</td>\n",
       "      <td>1111.0</td>\n",
       "      <td>95303.0</td>\n",
       "      <td>44471.0</td>\n",
       "      <td>503.0</td>\n",
       "      <td>89.0</td>\n",
       "    </tr>\n",
       "    <tr>\n",
       "      <th>2020-09-27</th>\n",
       "      <td>538569.0</td>\n",
       "      <td>21061.0</td>\n",
       "      <td>10666.0</td>\n",
       "      <td>6253.0</td>\n",
       "      <td>1118.0</td>\n",
       "      <td>95426.0</td>\n",
       "      <td>44471.0</td>\n",
       "      <td>241.0</td>\n",
       "      <td>47.0</td>\n",
       "    </tr>\n",
       "    <tr>\n",
       "      <th>2020-09-28</th>\n",
       "      <td>542639.0</td>\n",
       "      <td>21142.0</td>\n",
       "      <td>10666.0</td>\n",
       "      <td>6415.0</td>\n",
       "      <td>1164.0</td>\n",
       "      <td>95774.0</td>\n",
       "      <td>44471.0</td>\n",
       "      <td>619.0</td>\n",
       "      <td>137.0</td>\n",
       "    </tr>\n",
       "    <tr>\n",
       "      <th>2020-09-29</th>\n",
       "      <td>550690.0</td>\n",
       "      <td>21201.0</td>\n",
       "      <td>10692.0</td>\n",
       "      <td>6500.0</td>\n",
       "      <td>1204.0</td>\n",
       "      <td>96327.0</td>\n",
       "      <td>45090.0</td>\n",
       "      <td>698.0</td>\n",
       "      <td>165.0</td>\n",
       "    </tr>\n",
       "    <tr>\n",
       "      <th>2020-09-30</th>\n",
       "      <td>563535.0</td>\n",
       "      <td>21264.0</td>\n",
       "      <td>10692.0</td>\n",
       "      <td>6590.0</td>\n",
       "      <td>1238.0</td>\n",
       "      <td>96797.0</td>\n",
       "      <td>45090.0</td>\n",
       "      <td>650.0</td>\n",
       "      <td>135.0</td>\n",
       "    </tr>\n",
       "  </tbody>\n",
       "</table>\n",
       "<p>217 rows × 9 columns</p>\n",
       "</div>"
      ],
      "text/plain": [
       "            casConfirmes    deces  decesEhpad  hospitalises  reanimation  \\\n",
       "date                                                                       \n",
       "2020-02-24          12.0      1.0         0.0           NaN          NaN   \n",
       "2020-02-25          14.0      1.0         0.0           2.0          NaN   \n",
       "2020-02-26          18.0      2.0         0.0           4.0          NaN   \n",
       "2020-02-27          38.0      2.0         0.0          24.0          2.0   \n",
       "2020-02-28          57.0      2.0         0.0           NaN          NaN   \n",
       "...                  ...      ...         ...           ...          ...   \n",
       "2020-09-26      527446.0  21034.0     10666.0        6172.0       1111.0   \n",
       "2020-09-27      538569.0  21061.0     10666.0        6253.0       1118.0   \n",
       "2020-09-28      542639.0  21142.0     10666.0        6415.0       1164.0   \n",
       "2020-09-29      550690.0  21201.0     10692.0        6500.0       1204.0   \n",
       "2020-09-30      563535.0  21264.0     10692.0        6590.0       1238.0   \n",
       "\n",
       "             gueris  casConfirmesEhpad  nouvellesHospitalisations  \\\n",
       "date                                                                \n",
       "2020-02-24     11.0                0.0                        NaN   \n",
       "2020-02-25     11.0                0.0                        NaN   \n",
       "2020-02-26     12.0                0.0                        NaN   \n",
       "2020-02-27     12.0                0.0                        NaN   \n",
       "2020-02-28      NaN                0.0                        NaN   \n",
       "...             ...                ...                        ...   \n",
       "2020-09-26  95303.0            44471.0                      503.0   \n",
       "2020-09-27  95426.0            44471.0                      241.0   \n",
       "2020-09-28  95774.0            44471.0                      619.0   \n",
       "2020-09-29  96327.0            45090.0                      698.0   \n",
       "2020-09-30  96797.0            45090.0                      650.0   \n",
       "\n",
       "            nouvellesReanimations  \n",
       "date                               \n",
       "2020-02-24                    NaN  \n",
       "2020-02-25                    NaN  \n",
       "2020-02-26                    NaN  \n",
       "2020-02-27                    NaN  \n",
       "2020-02-28                    NaN  \n",
       "...                           ...  \n",
       "2020-09-26                   89.0  \n",
       "2020-09-27                   47.0  \n",
       "2020-09-28                  137.0  \n",
       "2020-09-29                  165.0  \n",
       "2020-09-30                  135.0  \n",
       "\n",
       "[217 rows x 9 columns]"
      ]
     },
     "execution_count": 6,
     "metadata": {},
     "output_type": "execute_result"
    }
   ],
   "source": [
    "df[:\"2020-04-01\"].decesEhpad.fillna(0, inplace=True)\n",
    "df[:\"2020-04-12\"].casConfirmesEhpad.fillna(0, inplace=True)\n",
    "df"
   ]
  },
  {
   "cell_type": "code",
   "execution_count": 7,
   "metadata": {
    "collapsed": false,
    "tags": []
   },
   "outputs": [
    {
     "data": {
      "image/png": "[encoded data removed]",
      "text/plain": [
       "<Figure size 432x288 with 1 Axes>"
      ]
     },
     "metadata": {},
     "output_type": "display_data"
    }
   ],
   "source": [
    "#g = sns.lineplot(data=df.drop(\"date\", axis=1))\n",
    "plotCols = [\"casConfirmes\", \"deces\", \"hospitalises\", \"reanimation\", \"gueris\"]\n",
    "g = sns.lineplot(data=df[plotCols].interpolate('time'))"
   ]
  },
  {
   "cell_type": "code",
   "execution_count": 8,
   "metadata": {
    "collapsed": false
   },
   "outputs": [],
   "source": [
    "df = df.interpolate('time')\n",
    "df['decesEhpad'].interpolate('time')\n",
    "df.reset_index(inplace=True)"
   ]
  },
  {
   "cell_type": "code",
   "execution_count": 9,
   "metadata": {
    "collapsed": false
   },
   "outputs": [],
   "source": [
    "p_df = pd.DataFrame()\n",
    "\n",
    "p_df[\"data\"] = df[\"date\"]\n",
    "p_df[\"stato\"] = \"FR\"\n",
    "p_df[\"totale_casi\"] = df[\"casConfirmes\"] + df[\"casConfirmesEhpad\"]\n",
    "p_df[\"deceduti\"] = df[\"deces\"] + df[\"decesEhpad\"]\n",
    "p_df[\"totale_positivi\"] = p_df[\"totale_casi\"] - df[\"gueris\"] - p_df[\"deceduti\"]\n",
    "p_df[\"totale_ospedalizzati\"] = df[\"hospitalises\"]\n",
    "p_df[\"terapia_intensiva\"] = df[\"reanimation\"]\n",
    "p_df[\"ricoverati_con_sintomi\"] = df[\"hospitalises\"] - df[\"reanimation\"]\n",
    "p_df[\"isolamento_domiciliare\"] =  p_df[\"totale_positivi\"] - p_df[\"totale_ospedalizzati\"]\n",
    "p_df[\"guariti_domiciliari\"] = p_df[\"isolamento_domiciliare\"].shift(14, fill_value=0)\n",
    "p_df[\"isolamento_domiciliare\"] = p_df[\"isolamento_domiciliare\"] - p_df[\"guariti_domiciliari\"]\n",
    "p_df[\"dimessi_guariti\"] = df[\"gueris\"] + p_df[\"guariti_domiciliari\"]\n",
    "#p_df[\"isolamento_domiciliare\"] = p_df[\"isolamento_domiciliare\"] - p_df[\"isolamento_domiciliare\"].shift(15, fill_value=0)"
   ]
  },
  {
   "cell_type": "code",
   "execution_count": 10,
   "metadata": {
    "collapsed": false
   },
   "outputs": [
    {
     "data": {
      "text/plain": [
       "<matplotlib.axes._subplots.AxesSubplot at 0x2108d5c6588>"
      ]
     },
     "execution_count": 10,
     "metadata": {},
     "output_type": "execute_result"
    },
    {
     "data": {
      "image/png": "[encoded data removed]",
      "text/plain": [
       "<Figure size 432x288 with 1 Axes>"
      ]
     },
     "metadata": {},
     "output_type": "display_data"
    }
   ],
   "source": [
    "cols = [\"totale_casi\", \"totale_positivi\", \"totale_ospedalizzati\", \"ricoverati_con_sintomi\", \"dimessi_guariti\", \"terapia_intensiva\"]\n",
    "# g = sns.lineplot(\"data\", data=p_df[cols])\n",
    "cols = [\"data\", \"ricoverati_con_sintomi\", \"dimessi_guariti\", \"terapia_intensiva\", \"isolamento_domiciliare\"]\n",
    "p_df[cols].plot(x=\"data\")"
   ]
  },
  {
   "cell_type": "code",
   "execution_count": 11,
   "metadata": {
    "collapsed": false
   },
   "outputs": [
    {
     "data": {
      "text/plain": [
       "<matplotlib.axes._subplots.AxesSubplot at 0x2108d645a58>"
      ]
     },
     "execution_count": 11,
     "metadata": {},
     "output_type": "execute_result"
    },
    {
     "data": {
      "image/png": "[encoded data removed]",
      "text/plain": [
       "<Figure size 432x288 with 1 Axes>"
      ]
     },
     "metadata": {},
     "output_type": "display_data"
    }
   ],
   "source": [
    "cols = [\"totale_casi\", \"totale_positivi\", \"totale_ospedalizzati\", \"ricoverati_con_sintomi\", \"dimessi_guariti\", \"terapia_intensiva\"]\n",
    "# g = sns.lineplot(\"data\", data=p_df[cols])\n",
    "cols = [\"data\", \"ricoverati_con_sintomi\", \"dimessi_guariti\", \"terapia_intensiva\", \"isolamento_domiciliare\"]\n",
    "p_df[cols].plot(x=\"data\")"
   ]
  },
  {
   "cell_type": "code",
   "execution_count": 13,
   "metadata": {
    "collapsed": true
   },
   "outputs": [],
   "source": [
    "p_df.to_csv(\"./fr_data_processed.csv\")"
   ]
  },
  {
   "cell_type": "code",
   "execution_count": null,
   "metadata": {
    "collapsed": true
   },
   "outputs": [],
   "source": []
  }
 ],
 "metadata": {
  "anaconda-cloud": {},
  "kernelspec": {
   "display_name": "Python [conda env:multipoetgen]",
   "language": "python",
   "name": "conda-env-multipoetgen-py"
  },
  "language_info": {
   "codemirror_mode": {
    "name": "ipython",
    "version": 3
   },
   "file_extension": ".py",
   "mimetype": "text/x-python",
   "name": "python",
   "nbconvert_exporter": "python",
   "pygments_lexer": "ipython3",
   "version": "3.6.2"
  }
 },
 "nbformat": 4,
 "nbformat_minor": 2
}
