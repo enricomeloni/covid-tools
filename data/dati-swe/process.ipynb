{
 "metadata": {
  "language_info": {
   "codemirror_mode": {
    "name": "ipython",
    "version": 3
   },
   "file_extension": ".py",
   "mimetype": "text/x-python",
   "name": "python",
   "nbconvert_exporter": "python",
   "pygments_lexer": "ipython3",
   "version": 3
  },
  "orig_nbformat": 2,
  "kernelspec": {
   "name": "python_defaultSpec_1596121642107",
   "display_name": "Python 3.7.6 64-bit ('covid-tools': conda)"
  }
 },
 "nbformat": 4,
 "nbformat_minor": 2,
 "cells": [
  {
   "cell_type": "code",
   "execution_count": 1,
   "metadata": {},
   "outputs": [],
   "source": [
    "import os\n",
    "import pandas as pd"
   ]
  },
  {
   "cell_type": "code",
   "execution_count": 29,
   "metadata": {},
   "outputs": [],
   "source": [
    "data_df = pd.read_csv(\"./data_raw.csv\", parse_dates=[\"data\"], infer_datetime_format=True)"
   ]
  },
  {
   "cell_type": "code",
   "execution_count": 35,
   "metadata": {},
   "outputs": [
    {
     "output_type": "execute_result",
     "data": {
      "text/plain": "     index        data  deceduti\n0        0  2020-11-03         1\n1        1  2020-12-03         1\n2        2  2020-03-13         2\n3        3  2020-03-14         3\n4        4  2020-03-15         5\n..     ...         ...       ...\n137    137  2020-07-26      5728\n138    138  2020-07-27      5729\n139    139  2020-07-28      5730\n140    140  2020-07-29      5730\n141    141  2020-07-30      5730\n\n[142 rows x 3 columns]",
      "text/html": "<div>\n<style scoped>\n    .dataframe tbody tr th:only-of-type {\n        vertical-align: middle;\n    }\n\n    .dataframe tbody tr th {\n        vertical-align: top;\n    }\n\n    .dataframe thead th {\n        text-align: right;\n    }\n</style>\n<table border=\"1\" class=\"dataframe\">\n  <thead>\n    <tr style=\"text-align: right;\">\n      <th></th>\n      <th>index</th>\n      <th>data</th>\n      <th>deceduti</th>\n    </tr>\n  </thead>\n  <tbody>\n    <tr>\n      <th>0</th>\n      <td>0</td>\n      <td>2020-11-03</td>\n      <td>1</td>\n    </tr>\n    <tr>\n      <th>1</th>\n      <td>1</td>\n      <td>2020-12-03</td>\n      <td>1</td>\n    </tr>\n    <tr>\n      <th>2</th>\n      <td>2</td>\n      <td>2020-03-13</td>\n      <td>2</td>\n    </tr>\n    <tr>\n      <th>3</th>\n      <td>3</td>\n      <td>2020-03-14</td>\n      <td>3</td>\n    </tr>\n    <tr>\n      <th>4</th>\n      <td>4</td>\n      <td>2020-03-15</td>\n      <td>5</td>\n    </tr>\n    <tr>\n      <th>...</th>\n      <td>...</td>\n      <td>...</td>\n      <td>...</td>\n    </tr>\n    <tr>\n      <th>137</th>\n      <td>137</td>\n      <td>2020-07-26</td>\n      <td>5728</td>\n    </tr>\n    <tr>\n      <th>138</th>\n      <td>138</td>\n      <td>2020-07-27</td>\n      <td>5729</td>\n    </tr>\n    <tr>\n      <th>139</th>\n      <td>139</td>\n      <td>2020-07-28</td>\n      <td>5730</td>\n    </tr>\n    <tr>\n      <th>140</th>\n      <td>140</td>\n      <td>2020-07-29</td>\n      <td>5730</td>\n    </tr>\n    <tr>\n      <th>141</th>\n      <td>141</td>\n      <td>2020-07-30</td>\n      <td>5730</td>\n    </tr>\n  </tbody>\n</table>\n<p>142 rows × 3 columns</p>\n</div>"
     },
     "metadata": {},
     "execution_count": 35
    }
   ],
   "source": [
    "new_df = pd.DataFrame()\n",
    "new_df[\"data\"] = data_df[\"data\"].dt.strftime(\"%Y-%m-%d\")\n",
    "new_df[\"deceduti\"] = data_df[\"deceduti\"].cumsum()\n",
    "new_df.reset_index()"
   ]
  },
  {
   "cell_type": "code",
   "execution_count": 36,
   "metadata": {},
   "outputs": [],
   "source": [
    "new_df.to_csv(\"./data_swe.csv\")"
   ]
  }
 ]
}