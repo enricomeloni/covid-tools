{
 "metadata": {
  "language_info": {
   "codemirror_mode": {
    "name": "ipython",
    "version": 3
   },
   "file_extension": ".py",
   "mimetype": "text/x-python",
   "name": "python",
   "nbconvert_exporter": "python",
   "pygments_lexer": "ipython3",
   "version": "3.7.6-final"
  },
  "orig_nbformat": 2,
  "kernelspec": {
   "name": "Python 3.7.6 64-bit ('covid-tools': conda)",
   "display_name": "Python 3.7.6 64-bit ('covid-tools': conda)",
   "metadata": {
    "interpreter": {
     "hash": "30011fb273b9676d4408653059de04445543fb2582d7f9ebe9689c8f78ae6178"
    }
   }
  }
 },
 "nbformat": 4,
 "nbformat_minor": 2,
 "cells": [
  {
   "cell_type": "code",
   "execution_count": 2,
   "metadata": {},
   "outputs": [],
   "source": [
    "import os \n",
    "import json\n",
    "import pandas as pd\n",
    "import seaborn as sns\n",
    "import numpy as np\n",
    "import math\n",
    "\n",
    "import pandas as pd\n",
    "\n",
    "from utils.analysys_utils import list_experiments_in_dir"
   ]
  },
  {
   "cell_type": "code",
   "execution_count": 3,
   "metadata": {},
   "outputs": [],
   "source": [
    "experiments_path = os.path.join(os.getcwd(), \"runs\", \"momentum_train_size_exps\", \"sidarthe_extended\", \"Italy\")\n",
    "experiments = list_experiments_in_dir(experiments_path)"
   ]
  },
  {
   "cell_type": "code",
   "execution_count": 6,
   "metadata": {},
   "outputs": [
    {
     "output_type": "execute_result",
     "data": {
      "text/plain": "40"
     },
     "metadata": {},
     "execution_count": 6
    }
   ],
   "source": [
    "a_count = dict()\n",
    "exp_ids = []\n",
    "params_list = []\n",
    "\n",
    "for experiment in experiments:\n",
    "    if experiment['settings']['train_size'] != 40:\n",
    "        continue\n",
    "\n",
    "    alpha_0 = experiment['settings']['initial_values']['alpha'][0]\n",
    "    if alpha_0 in a_count:\n",
    "        a_count[alpha_0] += 1\n",
    "    else:\n",
    "        a_count[alpha_0] = 1\n",
    "        exp_ids.append(experiment['uuid'])\n",
    "        params_list.append(experiment['settings']['initial_values'])\n",
    "\n",
    "len(params_list[0]['alpha'])"
   ]
  },
  {
   "cell_type": "code",
   "execution_count": 7,
   "metadata": {},
   "outputs": [],
   "source": [
    "import json\n",
    "\n",
    "\n",
    "with open(os.path.join(experiments_path,'initial_params.json'), \"w+\") as f: \n",
    "    f.write(json.dumps(params_list))"
   ]
  }
 ]
}